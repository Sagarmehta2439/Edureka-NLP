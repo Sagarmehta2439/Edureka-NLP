{
 "cells": [
  {
   "cell_type": "markdown",
   "metadata": {},
   "source": [
    "__Import the libraries__"
   ]
  },
  {
   "cell_type": "code",
   "execution_count": 1,
   "metadata": {},
   "outputs": [],
   "source": [
    "import numpy as np\n",
    "import pandas as pd\n",
    "import nltk\n",
    "from nltk import word_tokenize"
   ]
  },
  {
   "cell_type": "markdown",
   "metadata": {},
   "source": [
    "__Read the file as a pandas data-frame__"
   ]
  },
  {
   "cell_type": "code",
   "execution_count": 2,
   "metadata": {},
   "outputs": [
    {
     "data": {
      "text/html": [
       "<div>\n",
       "<style scoped>\n",
       "    .dataframe tbody tr th:only-of-type {\n",
       "        vertical-align: middle;\n",
       "    }\n",
       "\n",
       "    .dataframe tbody tr th {\n",
       "        vertical-align: top;\n",
       "    }\n",
       "\n",
       "    .dataframe thead th {\n",
       "        text-align: right;\n",
       "    }\n",
       "</style>\n",
       "<table border=\"1\" class=\"dataframe\">\n",
       "  <thead>\n",
       "    <tr style=\"text-align: right;\">\n",
       "      <th></th>\n",
       "      <th>class</th>\n",
       "      <th>text</th>\n",
       "    </tr>\n",
       "  </thead>\n",
       "  <tbody>\n",
       "    <tr>\n",
       "      <th>0</th>\n",
       "      <td>Auto</td>\n",
       "      <td>I have recently purchased a J30T with moderat...</td>\n",
       "    </tr>\n",
       "    <tr>\n",
       "      <th>1</th>\n",
       "      <td>Camera</td>\n",
       "      <td>I bought this product because I need instant ...</td>\n",
       "    </tr>\n",
       "    <tr>\n",
       "      <th>2</th>\n",
       "      <td>Auto</td>\n",
       "      <td>I have owned my Buick since 53000 km and I am...</td>\n",
       "    </tr>\n",
       "    <tr>\n",
       "      <th>3</th>\n",
       "      <td>Camera</td>\n",
       "      <td>This was my first Digital camera so I did qui...</td>\n",
       "    </tr>\n",
       "    <tr>\n",
       "      <th>4</th>\n",
       "      <td>Camera</td>\n",
       "      <td>Minolta DiMAGE 7Hi is in a digital SLR with 5...</td>\n",
       "    </tr>\n",
       "  </tbody>\n",
       "</table>\n",
       "</div>"
      ],
      "text/plain": [
       "    class                                               text\n",
       "0    Auto   I have recently purchased a J30T with moderat...\n",
       "1  Camera   I bought this product because I need instant ...\n",
       "2    Auto   I have owned my Buick since 53000 km and I am...\n",
       "3  Camera   This was my first Digital camera so I did qui...\n",
       "4  Camera   Minolta DiMAGE 7Hi is in a digital SLR with 5..."
      ]
     },
     "execution_count": 2,
     "metadata": {},
     "output_type": "execute_result"
    }
   ],
   "source": [
    "op = pd.read_csv('Eopinions.csv')\n",
    "op.head()"
   ]
  },
  {
   "cell_type": "markdown",
   "metadata": {},
   "source": [
    "__Perform Label Encoding on ‘class’ column__"
   ]
  },
  {
   "cell_type": "code",
   "execution_count": 3,
   "metadata": {},
   "outputs": [],
   "source": [
    "def Label_encoding(DataFrame):\n",
    "    import pandas as pd\n",
    "    import numpy as np\n",
    "    df = pd.read_csv(DataFrame)\n",
    "    from sklearn import preprocessing\n",
    "    le = preprocessing.LabelEncoder()\n",
    "    le.fit(df['class'])\n",
    "    df['Label'] = le.fit_transform(df['class'])\n",
    "    return df"
   ]
  },
  {
   "cell_type": "code",
   "execution_count": 4,
   "metadata": {},
   "outputs": [
    {
     "data": {
      "text/html": [
       "<div>\n",
       "<style scoped>\n",
       "    .dataframe tbody tr th:only-of-type {\n",
       "        vertical-align: middle;\n",
       "    }\n",
       "\n",
       "    .dataframe tbody tr th {\n",
       "        vertical-align: top;\n",
       "    }\n",
       "\n",
       "    .dataframe thead th {\n",
       "        text-align: right;\n",
       "    }\n",
       "</style>\n",
       "<table border=\"1\" class=\"dataframe\">\n",
       "  <thead>\n",
       "    <tr style=\"text-align: right;\">\n",
       "      <th></th>\n",
       "      <th>class</th>\n",
       "      <th>text</th>\n",
       "      <th>Label</th>\n",
       "    </tr>\n",
       "  </thead>\n",
       "  <tbody>\n",
       "    <tr>\n",
       "      <th>0</th>\n",
       "      <td>Auto</td>\n",
       "      <td>I have recently purchased a J30T with moderat...</td>\n",
       "      <td>0</td>\n",
       "    </tr>\n",
       "    <tr>\n",
       "      <th>1</th>\n",
       "      <td>Camera</td>\n",
       "      <td>I bought this product because I need instant ...</td>\n",
       "      <td>1</td>\n",
       "    </tr>\n",
       "    <tr>\n",
       "      <th>2</th>\n",
       "      <td>Auto</td>\n",
       "      <td>I have owned my Buick since 53000 km and I am...</td>\n",
       "      <td>0</td>\n",
       "    </tr>\n",
       "    <tr>\n",
       "      <th>3</th>\n",
       "      <td>Camera</td>\n",
       "      <td>This was my first Digital camera so I did qui...</td>\n",
       "      <td>1</td>\n",
       "    </tr>\n",
       "    <tr>\n",
       "      <th>4</th>\n",
       "      <td>Camera</td>\n",
       "      <td>Minolta DiMAGE 7Hi is in a digital SLR with 5...</td>\n",
       "      <td>1</td>\n",
       "    </tr>\n",
       "    <tr>\n",
       "      <th>...</th>\n",
       "      <td>...</td>\n",
       "      <td>...</td>\n",
       "      <td>...</td>\n",
       "    </tr>\n",
       "    <tr>\n",
       "      <th>595</th>\n",
       "      <td>Auto</td>\n",
       "      <td>Recently our 12 year old Nissan Stanza decide...</td>\n",
       "      <td>0</td>\n",
       "    </tr>\n",
       "    <tr>\n",
       "      <th>596</th>\n",
       "      <td>Camera</td>\n",
       "      <td>I always do a lot of research before I buy an...</td>\n",
       "      <td>1</td>\n",
       "    </tr>\n",
       "    <tr>\n",
       "      <th>597</th>\n",
       "      <td>Auto</td>\n",
       "      <td>This car is an all around good buy  If you ar...</td>\n",
       "      <td>0</td>\n",
       "    </tr>\n",
       "    <tr>\n",
       "      <th>598</th>\n",
       "      <td>Auto</td>\n",
       "      <td>I waited to write this until I have had 4 mon...</td>\n",
       "      <td>0</td>\n",
       "    </tr>\n",
       "    <tr>\n",
       "      <th>599</th>\n",
       "      <td>Auto</td>\n",
       "      <td>I have been a Montero owner since about 1985 ...</td>\n",
       "      <td>0</td>\n",
       "    </tr>\n",
       "  </tbody>\n",
       "</table>\n",
       "<p>600 rows × 3 columns</p>\n",
       "</div>"
      ],
      "text/plain": [
       "      class                                               text  Label\n",
       "0      Auto   I have recently purchased a J30T with moderat...      0\n",
       "1    Camera   I bought this product because I need instant ...      1\n",
       "2      Auto   I have owned my Buick since 53000 km and I am...      0\n",
       "3    Camera   This was my first Digital camera so I did qui...      1\n",
       "4    Camera   Minolta DiMAGE 7Hi is in a digital SLR with 5...      1\n",
       "..      ...                                                ...    ...\n",
       "595    Auto   Recently our 12 year old Nissan Stanza decide...      0\n",
       "596  Camera   I always do a lot of research before I buy an...      1\n",
       "597    Auto   This car is an all around good buy  If you ar...      0\n",
       "598    Auto   I waited to write this until I have had 4 mon...      0\n",
       "599    Auto   I have been a Montero owner since about 1985 ...      0\n",
       "\n",
       "[600 rows x 3 columns]"
      ]
     },
     "execution_count": 4,
     "metadata": {},
     "output_type": "execute_result"
    }
   ],
   "source": [
    "Label_encoding('Eopinions.csv')"
   ]
  },
  {
   "cell_type": "code",
   "execution_count": 5,
   "metadata": {},
   "outputs": [
    {
     "data": {
      "text/html": [
       "<div>\n",
       "<style scoped>\n",
       "    .dataframe tbody tr th:only-of-type {\n",
       "        vertical-align: middle;\n",
       "    }\n",
       "\n",
       "    .dataframe tbody tr th {\n",
       "        vertical-align: top;\n",
       "    }\n",
       "\n",
       "    .dataframe thead th {\n",
       "        text-align: right;\n",
       "    }\n",
       "</style>\n",
       "<table border=\"1\" class=\"dataframe\">\n",
       "  <thead>\n",
       "    <tr style=\"text-align: right;\">\n",
       "      <th></th>\n",
       "      <th>class</th>\n",
       "      <th>text</th>\n",
       "      <th>Label</th>\n",
       "    </tr>\n",
       "  </thead>\n",
       "  <tbody>\n",
       "    <tr>\n",
       "      <th>0</th>\n",
       "      <td>Auto</td>\n",
       "      <td>I have recently purchased a J30T with moderat...</td>\n",
       "      <td>0</td>\n",
       "    </tr>\n",
       "    <tr>\n",
       "      <th>1</th>\n",
       "      <td>Camera</td>\n",
       "      <td>I bought this product because I need instant ...</td>\n",
       "      <td>1</td>\n",
       "    </tr>\n",
       "    <tr>\n",
       "      <th>2</th>\n",
       "      <td>Auto</td>\n",
       "      <td>I have owned my Buick since 53000 km and I am...</td>\n",
       "      <td>0</td>\n",
       "    </tr>\n",
       "    <tr>\n",
       "      <th>3</th>\n",
       "      <td>Camera</td>\n",
       "      <td>This was my first Digital camera so I did qui...</td>\n",
       "      <td>1</td>\n",
       "    </tr>\n",
       "    <tr>\n",
       "      <th>4</th>\n",
       "      <td>Camera</td>\n",
       "      <td>Minolta DiMAGE 7Hi is in a digital SLR with 5...</td>\n",
       "      <td>1</td>\n",
       "    </tr>\n",
       "  </tbody>\n",
       "</table>\n",
       "</div>"
      ],
      "text/plain": [
       "    class                                               text  Label\n",
       "0    Auto   I have recently purchased a J30T with moderat...      0\n",
       "1  Camera   I bought this product because I need instant ...      1\n",
       "2    Auto   I have owned my Buick since 53000 km and I am...      0\n",
       "3  Camera   This was my first Digital camera so I did qui...      1\n",
       "4  Camera   Minolta DiMAGE 7Hi is in a digital SLR with 5...      1"
      ]
     },
     "execution_count": 5,
     "metadata": {},
     "output_type": "execute_result"
    }
   ],
   "source": [
    "op = Label_encoding('Eopinions.csv')\n",
    "op.head()"
   ]
  },
  {
   "cell_type": "code",
   "execution_count": 6,
   "metadata": {},
   "outputs": [
    {
     "data": {
      "text/plain": [
       "<AxesSubplot:>"
      ]
     },
     "execution_count": 6,
     "metadata": {},
     "output_type": "execute_result"
    },
    {
     "data": {
      "image/png": "[encoded data removed]",
      "text/plain": [
       "<Figure size 432x288 with 1 Axes>"
      ]
     },
     "metadata": {
      "needs_background": "light"
     },
     "output_type": "display_data"
    }
   ],
   "source": [
    "#Plot a bar graph to compare the frequencies of both the classes\n",
    "import matplotlib.pyplot as plt\n",
    "import seaborn as sns\n",
    "op['class'].value_counts().plot(kind = 'bar')"
   ]
  },
  {
   "cell_type": "markdown",
   "metadata": {},
   "source": [
    "__Preprocess the ‘text’ column__"
   ]
  },
  {
   "cell_type": "code",
   "execution_count": 7,
   "metadata": {},
   "outputs": [],
   "source": [
    "import nltk\n",
    "from nltk.corpus import stopwords\n",
    "from string import punctuation\n",
    "from nltk.stem import  wordnet\n",
    "from nltk.stem import WordNetLemmatizer\n",
    "\n",
    "#Tokenize Function\n",
    "def Tokenize(string):\n",
    "    tokens=nltk.tokenize.word_tokenize(string)\n",
    "    return \" \".join(tokens)\n",
    "\n",
    "#RemoveStopWordsFunction\n",
    "def RemoveStopWords(string):\n",
    "    #Removing Punctuations\n",
    "    for each in punctuation:\n",
    "        string=string.replace(each,\"\")\n",
    "    \n",
    "    #Removing Stopwords\n",
    "    english_stopwords=stopwords.words('english')\n",
    "    stopwords_removed_tokens=[]\n",
    "    words=string.split(\" \")\n",
    "    \n",
    "    for each in words:\n",
    "        if each not in english_stopwords:\n",
    "            stopwords_removed_tokens.append(each)\n",
    "    return \" \".join(stopwords_removed_tokens) \n",
    "\n",
    "\n",
    "#LemmatizeFunction\n",
    "def Lemmatize(string):\n",
    "    word_lem=WordNetLemmatizer()\n",
    "    words=string.split() \n",
    "    lemmatizeWords=[]\n",
    "    for each in words:\n",
    "        lemmatizeWords.append(word_lem.lemmatize(each))\n",
    "    return \" \".join(lemmatizeWords)\n",
    "\n",
    "def Refine(string):\n",
    "    return Lemmatize(RemoveStopWords(Tokenize(string)))\n",
    "\n"
   ]
  },
  {
   "cell_type": "code",
   "execution_count": 8,
   "metadata": {},
   "outputs": [
    {
     "data": {
      "text/html": [
       "<div>\n",
       "<style scoped>\n",
       "    .dataframe tbody tr th:only-of-type {\n",
       "        vertical-align: middle;\n",
       "    }\n",
       "\n",
       "    .dataframe tbody tr th {\n",
       "        vertical-align: top;\n",
       "    }\n",
       "\n",
       "    .dataframe thead th {\n",
       "        text-align: right;\n",
       "    }\n",
       "</style>\n",
       "<table border=\"1\" class=\"dataframe\">\n",
       "  <thead>\n",
       "    <tr style=\"text-align: right;\">\n",
       "      <th></th>\n",
       "      <th>class</th>\n",
       "      <th>text</th>\n",
       "      <th>Label</th>\n",
       "      <th>preprocessed</th>\n",
       "    </tr>\n",
       "  </thead>\n",
       "  <tbody>\n",
       "    <tr>\n",
       "      <th>0</th>\n",
       "      <td>Auto</td>\n",
       "      <td>I have recently purchased a J30T with moderat...</td>\n",
       "      <td>0</td>\n",
       "      <td>I recently purchased J30T moderate mile I shop...</td>\n",
       "    </tr>\n",
       "    <tr>\n",
       "      <th>1</th>\n",
       "      <td>Camera</td>\n",
       "      <td>I bought this product because I need instant ...</td>\n",
       "      <td>1</td>\n",
       "      <td>I bought product I need instant gratification ...</td>\n",
       "    </tr>\n",
       "    <tr>\n",
       "      <th>2</th>\n",
       "      <td>Auto</td>\n",
       "      <td>I have owned my Buick since 53000 km and I am...</td>\n",
       "      <td>0</td>\n",
       "      <td>I owned Buick since 53000 km I approaching 600...</td>\n",
       "    </tr>\n",
       "    <tr>\n",
       "      <th>3</th>\n",
       "      <td>Camera</td>\n",
       "      <td>This was my first Digital camera so I did qui...</td>\n",
       "      <td>1</td>\n",
       "      <td>This first Digital camera I quite bit research...</td>\n",
       "    </tr>\n",
       "    <tr>\n",
       "      <th>4</th>\n",
       "      <td>Camera</td>\n",
       "      <td>Minolta DiMAGE 7Hi is in a digital SLR with 5...</td>\n",
       "      <td>1</td>\n",
       "      <td>Minolta DiMAGE 7Hi digital SLR 5 megapixel 2 3...</td>\n",
       "    </tr>\n",
       "  </tbody>\n",
       "</table>\n",
       "</div>"
      ],
      "text/plain": [
       "    class                                               text  Label  \\\n",
       "0    Auto   I have recently purchased a J30T with moderat...      0   \n",
       "1  Camera   I bought this product because I need instant ...      1   \n",
       "2    Auto   I have owned my Buick since 53000 km and I am...      0   \n",
       "3  Camera   This was my first Digital camera so I did qui...      1   \n",
       "4  Camera   Minolta DiMAGE 7Hi is in a digital SLR with 5...      1   \n",
       "\n",
       "                                        preprocessed  \n",
       "0  I recently purchased J30T moderate mile I shop...  \n",
       "1  I bought product I need instant gratification ...  \n",
       "2  I owned Buick since 53000 km I approaching 600...  \n",
       "3  This first Digital camera I quite bit research...  \n",
       "4  Minolta DiMAGE 7Hi digital SLR 5 megapixel 2 3...  "
      ]
     },
     "execution_count": 8,
     "metadata": {},
     "output_type": "execute_result"
    }
   ],
   "source": [
    "op['preprocessed'] = op['text'].apply(Refine)\n",
    "op.head()"
   ]
  },
  {
   "cell_type": "markdown",
   "metadata": {},
   "source": [
    "__Vectorize the text using CountVectorizer__"
   ]
  },
  {
   "cell_type": "code",
   "execution_count": 9,
   "metadata": {},
   "outputs": [],
   "source": [
    "def CountVectorization(S):\n",
    "    from nltk import word_tokenize\n",
    "    S_tokens = word_tokenize(S)\n",
    "   \n",
    "    S_corpus = set(S_tokens)\n",
    "    S_corpus_dict = dict.fromkeys(S_corpus,0)\n",
    "    S_dict = dict.fromkeys(S_corpus_dict,0)\n",
    "    for token in S_tokens:\n",
    "        S_dict[token]+=1\n",
    "        S_list = list(S_dict.values())\n",
    "    return (S_list)"
   ]
  },
  {
   "cell_type": "code",
   "execution_count": 10,
   "metadata": {},
   "outputs": [
    {
     "data": {
      "text/html": [
       "<div>\n",
       "<style scoped>\n",
       "    .dataframe tbody tr th:only-of-type {\n",
       "        vertical-align: middle;\n",
       "    }\n",
       "\n",
       "    .dataframe tbody tr th {\n",
       "        vertical-align: top;\n",
       "    }\n",
       "\n",
       "    .dataframe thead th {\n",
       "        text-align: right;\n",
       "    }\n",
       "</style>\n",
       "<table border=\"1\" class=\"dataframe\">\n",
       "  <thead>\n",
       "    <tr style=\"text-align: right;\">\n",
       "      <th></th>\n",
       "      <th>class</th>\n",
       "      <th>text</th>\n",
       "      <th>Label</th>\n",
       "      <th>preprocessed</th>\n",
       "      <th>vectorized_column</th>\n",
       "    </tr>\n",
       "  </thead>\n",
       "  <tbody>\n",
       "    <tr>\n",
       "      <th>0</th>\n",
       "      <td>Auto</td>\n",
       "      <td>I have recently purchased a J30T with moderat...</td>\n",
       "      <td>0</td>\n",
       "      <td>I recently purchased J30T moderate mile I shop...</td>\n",
       "      <td>[1, 1, 1, 1, 1, 9, 1, 1, 1, 1, 1, 1, 1, 1, 2, ...</td>\n",
       "    </tr>\n",
       "    <tr>\n",
       "      <th>1</th>\n",
       "      <td>Camera</td>\n",
       "      <td>I bought this product because I need instant ...</td>\n",
       "      <td>1</td>\n",
       "      <td>I bought product I need instant gratification ...</td>\n",
       "      <td>[1, 1, 1, 3, 2, 3, 1, 6, 2, 1, 2, 7, 2, 6, 1, ...</td>\n",
       "    </tr>\n",
       "    <tr>\n",
       "      <th>2</th>\n",
       "      <td>Auto</td>\n",
       "      <td>I have owned my Buick since 53000 km and I am...</td>\n",
       "      <td>0</td>\n",
       "      <td>I owned Buick since 53000 km I approaching 600...</td>\n",
       "      <td>[2, 1, 1, 1, 1, 1, 1, 1, 2, 17, 1, 1, 1, 1, 1,...</td>\n",
       "    </tr>\n",
       "    <tr>\n",
       "      <th>3</th>\n",
       "      <td>Camera</td>\n",
       "      <td>This was my first Digital camera so I did qui...</td>\n",
       "      <td>1</td>\n",
       "      <td>This first Digital camera I quite bit research...</td>\n",
       "      <td>[1, 1, 1, 1, 4, 1, 2, 14, 1, 1, 1, 1, 1, 1, 1,...</td>\n",
       "    </tr>\n",
       "    <tr>\n",
       "      <th>4</th>\n",
       "      <td>Camera</td>\n",
       "      <td>Minolta DiMAGE 7Hi is in a digital SLR with 5...</td>\n",
       "      <td>1</td>\n",
       "      <td>Minolta DiMAGE 7Hi digital SLR 5 megapixel 2 3...</td>\n",
       "      <td>[1, 1, 3, 1, 1, 1, 1, 1, 1, 1, 1, 1, 2, 1, 1, ...</td>\n",
       "    </tr>\n",
       "  </tbody>\n",
       "</table>\n",
       "</div>"
      ],
      "text/plain": [
       "    class                                               text  Label  \\\n",
       "0    Auto   I have recently purchased a J30T with moderat...      0   \n",
       "1  Camera   I bought this product because I need instant ...      1   \n",
       "2    Auto   I have owned my Buick since 53000 km and I am...      0   \n",
       "3  Camera   This was my first Digital camera so I did qui...      1   \n",
       "4  Camera   Minolta DiMAGE 7Hi is in a digital SLR with 5...      1   \n",
       "\n",
       "                                        preprocessed  \\\n",
       "0  I recently purchased J30T moderate mile I shop...   \n",
       "1  I bought product I need instant gratification ...   \n",
       "2  I owned Buick since 53000 km I approaching 600...   \n",
       "3  This first Digital camera I quite bit research...   \n",
       "4  Minolta DiMAGE 7Hi digital SLR 5 megapixel 2 3...   \n",
       "\n",
       "                                   vectorized_column  \n",
       "0  [1, 1, 1, 1, 1, 9, 1, 1, 1, 1, 1, 1, 1, 1, 2, ...  \n",
       "1  [1, 1, 1, 3, 2, 3, 1, 6, 2, 1, 2, 7, 2, 6, 1, ...  \n",
       "2  [2, 1, 1, 1, 1, 1, 1, 1, 2, 17, 1, 1, 1, 1, 1,...  \n",
       "3  [1, 1, 1, 1, 4, 1, 2, 14, 1, 1, 1, 1, 1, 1, 1,...  \n",
       "4  [1, 1, 3, 1, 1, 1, 1, 1, 1, 1, 1, 1, 2, 1, 1, ...  "
      ]
     },
     "execution_count": 10,
     "metadata": {},
     "output_type": "execute_result"
    }
   ],
   "source": [
    "op['vectorized_column'] = op['preprocessed'].apply(CountVectorization)\n",
    "op.head()"
   ]
  },
  {
   "cell_type": "markdown",
   "metadata": {},
   "source": [
    "__Split the dataset into 2 parts namely “train.csv” and “test.csv” having 80% and 20% of the data respectively from the originaldata. These are your Train and Test Data. Make sure train and test data are having same proportion of data points as the original data__"
   ]
  },
  {
   "cell_type": "code",
   "execution_count": 11,
   "metadata": {},
   "outputs": [],
   "source": [
    "op.to_csv('op_new.csv')"
   ]
  },
  {
   "cell_type": "code",
   "execution_count": 12,
   "metadata": {},
   "outputs": [],
   "source": [
    "def split(DataFrame):\n",
    "    import pandas as pd\n",
    "    import numpy as np\n",
    "    df = pd.read_csv(DataFrame)\n",
    "    df['split'] = np.random.randn(df.shape[0], 1)\n",
    "    msk = np.random.rand(len(df)) <= 0.8\n",
    "    train = df[msk]\n",
    "    test = df[~msk]\n",
    "    return (train.to_csv('train.csv',index = False),test.to_csv('test.csv',index = False))"
   ]
  },
  {
   "cell_type": "code",
   "execution_count": 13,
   "metadata": {},
   "outputs": [
    {
     "data": {
      "text/plain": [
       "(None, None)"
      ]
     },
     "execution_count": 13,
     "metadata": {},
     "output_type": "execute_result"
    }
   ],
   "source": [
    "split('op_new.csv')"
   ]
  },
  {
   "cell_type": "code",
   "execution_count": 14,
   "metadata": {},
   "outputs": [],
   "source": [
    "train = pd.read_csv('train.csv')\n",
    "test = pd.read_csv('test.csv')"
   ]
  },
  {
   "cell_type": "code",
   "execution_count": 15,
   "metadata": {},
   "outputs": [
    {
     "name": "stdout",
     "output_type": "stream",
     "text": [
      "486\n",
      "114\n"
     ]
    }
   ],
   "source": [
    "print(len(train))\n",
    "print(len(test))"
   ]
  },
  {
   "cell_type": "code",
   "execution_count": 16,
   "metadata": {},
   "outputs": [
    {
     "data": {
      "text/html": [
       "<div>\n",
       "<style scoped>\n",
       "    .dataframe tbody tr th:only-of-type {\n",
       "        vertical-align: middle;\n",
       "    }\n",
       "\n",
       "    .dataframe tbody tr th {\n",
       "        vertical-align: top;\n",
       "    }\n",
       "\n",
       "    .dataframe thead th {\n",
       "        text-align: right;\n",
       "    }\n",
       "</style>\n",
       "<table border=\"1\" class=\"dataframe\">\n",
       "  <thead>\n",
       "    <tr style=\"text-align: right;\">\n",
       "      <th></th>\n",
       "      <th>class</th>\n",
       "      <th>text</th>\n",
       "      <th>Label</th>\n",
       "      <th>preprocessed</th>\n",
       "      <th>vectorized_column</th>\n",
       "      <th>split</th>\n",
       "    </tr>\n",
       "  </thead>\n",
       "  <tbody>\n",
       "    <tr>\n",
       "      <th>0</th>\n",
       "      <td>Auto</td>\n",
       "      <td>I have owned my Buick since 53000 km and I am...</td>\n",
       "      <td>0</td>\n",
       "      <td>I owned Buick since 53000 km I approaching 600...</td>\n",
       "      <td>[2, 1, 1, 1, 1, 1, 1, 1, 2, 17, 1, 1, 1, 1, 1,...</td>\n",
       "      <td>0.311134</td>\n",
       "    </tr>\n",
       "    <tr>\n",
       "      <th>1</th>\n",
       "      <td>Camera</td>\n",
       "      <td>This was my first Digital camera so I did qui...</td>\n",
       "      <td>1</td>\n",
       "      <td>This first Digital camera I quite bit research...</td>\n",
       "      <td>[1, 1, 1, 1, 4, 1, 2, 14, 1, 1, 1, 1, 1, 1, 1,...</td>\n",
       "      <td>0.499624</td>\n",
       "    </tr>\n",
       "    <tr>\n",
       "      <th>2</th>\n",
       "      <td>Auto</td>\n",
       "      <td>I had a 1984 Saab  a 1996 Saab and now a 1999...</td>\n",
       "      <td>0</td>\n",
       "      <td>I 1984 Saab 1996 Saab 1999 S3 One thing I like...</td>\n",
       "      <td>[1, 2, 1, 7, 1, 1, 1, 2, 1, 1, 1, 1, 1, 1, 1, ...</td>\n",
       "      <td>-0.731917</td>\n",
       "    </tr>\n",
       "    <tr>\n",
       "      <th>3</th>\n",
       "      <td>Auto</td>\n",
       "      <td>Nissan has needed a redesign of the Sentra si...</td>\n",
       "      <td>0</td>\n",
       "      <td>Nissan needed redesign Sentra since 1997 model...</td>\n",
       "      <td>[1, 1, 1, 2, 1, 18, 1, 1, 1, 2, 1, 1, 1, 1, 1,...</td>\n",
       "      <td>-1.191199</td>\n",
       "    </tr>\n",
       "    <tr>\n",
       "      <th>4</th>\n",
       "      <td>Camera</td>\n",
       "      <td>The 3040 represents a new advance in digital ...</td>\n",
       "      <td>1</td>\n",
       "      <td>The 3040 represents new advance digital camera...</td>\n",
       "      <td>[3, 2, 1, 1, 1, 1, 1, 1, 3, 4, 2, 1, 1, 1, 1, ...</td>\n",
       "      <td>-0.165865</td>\n",
       "    </tr>\n",
       "    <tr>\n",
       "      <th>...</th>\n",
       "      <td>...</td>\n",
       "      <td>...</td>\n",
       "      <td>...</td>\n",
       "      <td>...</td>\n",
       "      <td>...</td>\n",
       "      <td>...</td>\n",
       "    </tr>\n",
       "    <tr>\n",
       "      <th>481</th>\n",
       "      <td>Camera</td>\n",
       "      <td>When I first started looking a digital camera...</td>\n",
       "      <td>1</td>\n",
       "      <td>When I first started looking digital camera I ...</td>\n",
       "      <td>[2, 2, 1, 2, 2, 1, 1, 1, 3, 1, 2, 3, 1, 1, 9, ...</td>\n",
       "      <td>0.498056</td>\n",
       "    </tr>\n",
       "    <tr>\n",
       "      <th>482</th>\n",
       "      <td>Camera</td>\n",
       "      <td>I ve been wanting to get a digital camera for...</td>\n",
       "      <td>1</td>\n",
       "      <td>I wanting get digital camera convenient I usin...</td>\n",
       "      <td>[1, 1, 2, 1, 2, 3, 14, 1, 1, 1, 1, 1, 3, 1, 1,...</td>\n",
       "      <td>1.482860</td>\n",
       "    </tr>\n",
       "    <tr>\n",
       "      <th>483</th>\n",
       "      <td>Auto</td>\n",
       "      <td>This car is an all around good buy  If you ar...</td>\n",
       "      <td>0</td>\n",
       "      <td>This car around good buy If car really get lot...</td>\n",
       "      <td>[1, 1, 1, 1, 1, 1, 1, 2, 5, 1, 1, 2, 4, 1, 1, ...</td>\n",
       "      <td>-0.434823</td>\n",
       "    </tr>\n",
       "    <tr>\n",
       "      <th>484</th>\n",
       "      <td>Auto</td>\n",
       "      <td>I waited to write this until I have had 4 mon...</td>\n",
       "      <td>0</td>\n",
       "      <td>I waited write I 4 month driving 2000 KIA Spor...</td>\n",
       "      <td>[1, 1, 1, 1, 1, 2, 1, 2, 1, 8, 1, 1, 1, 1, 2, ...</td>\n",
       "      <td>-0.294596</td>\n",
       "    </tr>\n",
       "    <tr>\n",
       "      <th>485</th>\n",
       "      <td>Auto</td>\n",
       "      <td>I have been a Montero owner since about 1985 ...</td>\n",
       "      <td>0</td>\n",
       "      <td>I Montero owner since 1985 found vehicle extre...</td>\n",
       "      <td>[2, 1, 4, 3, 2, 1, 2, 1, 1, 1, 1, 1, 1, 1, 1, ...</td>\n",
       "      <td>-2.579821</td>\n",
       "    </tr>\n",
       "  </tbody>\n",
       "</table>\n",
       "<p>486 rows × 6 columns</p>\n",
       "</div>"
      ],
      "text/plain": [
       "      class                                               text  Label  \\\n",
       "0      Auto   I have owned my Buick since 53000 km and I am...      0   \n",
       "1    Camera   This was my first Digital camera so I did qui...      1   \n",
       "2      Auto   I had a 1984 Saab  a 1996 Saab and now a 1999...      0   \n",
       "3      Auto   Nissan has needed a redesign of the Sentra si...      0   \n",
       "4    Camera   The 3040 represents a new advance in digital ...      1   \n",
       "..      ...                                                ...    ...   \n",
       "481  Camera   When I first started looking a digital camera...      1   \n",
       "482  Camera   I ve been wanting to get a digital camera for...      1   \n",
       "483    Auto   This car is an all around good buy  If you ar...      0   \n",
       "484    Auto   I waited to write this until I have had 4 mon...      0   \n",
       "485    Auto   I have been a Montero owner since about 1985 ...      0   \n",
       "\n",
       "                                          preprocessed  \\\n",
       "0    I owned Buick since 53000 km I approaching 600...   \n",
       "1    This first Digital camera I quite bit research...   \n",
       "2    I 1984 Saab 1996 Saab 1999 S3 One thing I like...   \n",
       "3    Nissan needed redesign Sentra since 1997 model...   \n",
       "4    The 3040 represents new advance digital camera...   \n",
       "..                                                 ...   \n",
       "481  When I first started looking digital camera I ...   \n",
       "482  I wanting get digital camera convenient I usin...   \n",
       "483  This car around good buy If car really get lot...   \n",
       "484  I waited write I 4 month driving 2000 KIA Spor...   \n",
       "485  I Montero owner since 1985 found vehicle extre...   \n",
       "\n",
       "                                     vectorized_column     split  \n",
       "0    [2, 1, 1, 1, 1, 1, 1, 1, 2, 17, 1, 1, 1, 1, 1,...  0.311134  \n",
       "1    [1, 1, 1, 1, 4, 1, 2, 14, 1, 1, 1, 1, 1, 1, 1,...  0.499624  \n",
       "2    [1, 2, 1, 7, 1, 1, 1, 2, 1, 1, 1, 1, 1, 1, 1, ... -0.731917  \n",
       "3    [1, 1, 1, 2, 1, 18, 1, 1, 1, 2, 1, 1, 1, 1, 1,... -1.191199  \n",
       "4    [3, 2, 1, 1, 1, 1, 1, 1, 3, 4, 2, 1, 1, 1, 1, ... -0.165865  \n",
       "..                                                 ...       ...  \n",
       "481  [2, 2, 1, 2, 2, 1, 1, 1, 3, 1, 2, 3, 1, 1, 9, ...  0.498056  \n",
       "482  [1, 1, 2, 1, 2, 3, 14, 1, 1, 1, 1, 1, 3, 1, 1,...  1.482860  \n",
       "483  [1, 1, 1, 1, 1, 1, 1, 2, 5, 1, 1, 2, 4, 1, 1, ... -0.434823  \n",
       "484  [1, 1, 1, 1, 1, 2, 1, 2, 1, 8, 1, 1, 1, 1, 2, ... -0.294596  \n",
       "485  [2, 1, 4, 3, 2, 1, 2, 1, 1, 1, 1, 1, 1, 1, 1, ... -2.579821  \n",
       "\n",
       "[486 rows x 6 columns]"
      ]
     },
     "execution_count": 16,
     "metadata": {},
     "output_type": "execute_result"
    }
   ],
   "source": [
    "train.drop('Unnamed: 0',1)"
   ]
  },
  {
   "cell_type": "code",
   "execution_count": 17,
   "metadata": {},
   "outputs": [
    {
     "data": {
      "text/html": [
       "<div>\n",
       "<style scoped>\n",
       "    .dataframe tbody tr th:only-of-type {\n",
       "        vertical-align: middle;\n",
       "    }\n",
       "\n",
       "    .dataframe tbody tr th {\n",
       "        vertical-align: top;\n",
       "    }\n",
       "\n",
       "    .dataframe thead th {\n",
       "        text-align: right;\n",
       "    }\n",
       "</style>\n",
       "<table border=\"1\" class=\"dataframe\">\n",
       "  <thead>\n",
       "    <tr style=\"text-align: right;\">\n",
       "      <th></th>\n",
       "      <th>class</th>\n",
       "      <th>text</th>\n",
       "      <th>Label</th>\n",
       "      <th>preprocessed</th>\n",
       "      <th>vectorized_column</th>\n",
       "      <th>split</th>\n",
       "    </tr>\n",
       "  </thead>\n",
       "  <tbody>\n",
       "    <tr>\n",
       "      <th>0</th>\n",
       "      <td>Auto</td>\n",
       "      <td>I have recently purchased a J30T with moderat...</td>\n",
       "      <td>0</td>\n",
       "      <td>I recently purchased J30T moderate mile I shop...</td>\n",
       "      <td>[1, 1, 1, 1, 1, 9, 1, 1, 1, 1, 1, 1, 1, 1, 2, ...</td>\n",
       "      <td>-0.967653</td>\n",
       "    </tr>\n",
       "    <tr>\n",
       "      <th>1</th>\n",
       "      <td>Camera</td>\n",
       "      <td>I bought this product because I need instant ...</td>\n",
       "      <td>1</td>\n",
       "      <td>I bought product I need instant gratification ...</td>\n",
       "      <td>[1, 1, 1, 3, 2, 3, 1, 6, 2, 1, 2, 7, 2, 6, 1, ...</td>\n",
       "      <td>-0.053892</td>\n",
       "    </tr>\n",
       "    <tr>\n",
       "      <th>2</th>\n",
       "      <td>Camera</td>\n",
       "      <td>Minolta DiMAGE 7Hi is in a digital SLR with 5...</td>\n",
       "      <td>1</td>\n",
       "      <td>Minolta DiMAGE 7Hi digital SLR 5 megapixel 2 3...</td>\n",
       "      <td>[1, 1, 3, 1, 1, 1, 1, 1, 1, 1, 1, 1, 2, 1, 1, ...</td>\n",
       "      <td>1.401600</td>\n",
       "    </tr>\n",
       "    <tr>\n",
       "      <th>3</th>\n",
       "      <td>Camera</td>\n",
       "      <td>From Olympus to Kodak  b I enjoyed using a...</td>\n",
       "      <td>1</td>\n",
       "      <td>From Olympus Kodak b I enjoyed using Olympus d...</td>\n",
       "      <td>[1, 1, 2, 1, 1, 1, 2, 1, 1, 2, 1, 1, 1, 3, 1, ...</td>\n",
       "      <td>0.990726</td>\n",
       "    </tr>\n",
       "    <tr>\n",
       "      <th>4</th>\n",
       "      <td>Auto</td>\n",
       "      <td>General Trooper Information  b The Isuzu T...</td>\n",
       "      <td>0</td>\n",
       "      <td>General Trooper Information b The Isuzu Troope...</td>\n",
       "      <td>[1, 2, 2, 1, 1, 12, 1, 1, 2, 5, 1, 1, 1, 4, 3,...</td>\n",
       "      <td>1.460160</td>\n",
       "    </tr>\n",
       "    <tr>\n",
       "      <th>...</th>\n",
       "      <td>...</td>\n",
       "      <td>...</td>\n",
       "      <td>...</td>\n",
       "      <td>...</td>\n",
       "      <td>...</td>\n",
       "      <td>...</td>\n",
       "    </tr>\n",
       "    <tr>\n",
       "      <th>109</th>\n",
       "      <td>Auto</td>\n",
       "      <td>Picture this You re in your new black 2000 ci...</td>\n",
       "      <td>0</td>\n",
       "      <td>Picture You new black 2000 civic ex moonroof f...</td>\n",
       "      <td>[1, 1, 1, 1, 1, 1, 1, 3, 3, 1, 1, 1, 1, 1, 1, ...</td>\n",
       "      <td>0.799825</td>\n",
       "    </tr>\n",
       "    <tr>\n",
       "      <th>110</th>\n",
       "      <td>Auto</td>\n",
       "      <td>The Beach Boys really knew what they were tal...</td>\n",
       "      <td>0</td>\n",
       "      <td>The Beach Boys really knew talking singing sai...</td>\n",
       "      <td>[1, 1, 1, 3, 1, 1, 1, 1, 1, 1, 1, 11, 2, 1, 1,...</td>\n",
       "      <td>0.752036</td>\n",
       "    </tr>\n",
       "    <tr>\n",
       "      <th>111</th>\n",
       "      <td>Auto</td>\n",
       "      <td>I bought a Corolla in 1995  It was my first c...</td>\n",
       "      <td>0</td>\n",
       "      <td>I bought Corolla 1995 It first car still car M...</td>\n",
       "      <td>[1, 1, 4, 1, 2, 7, 1, 1, 1, 1, 1, 1, 1, 1, 1, ...</td>\n",
       "      <td>0.248560</td>\n",
       "    </tr>\n",
       "    <tr>\n",
       "      <th>112</th>\n",
       "      <td>Auto</td>\n",
       "      <td>Recently our 12 year old Nissan Stanza decide...</td>\n",
       "      <td>0</td>\n",
       "      <td>Recently 12 year old Nissan Stanza decided tim...</td>\n",
       "      <td>[1, 5, 1, 1, 2, 1, 1, 1, 1, 7, 1, 1, 1, 1, 2, ...</td>\n",
       "      <td>0.026668</td>\n",
       "    </tr>\n",
       "    <tr>\n",
       "      <th>113</th>\n",
       "      <td>Camera</td>\n",
       "      <td>I always do a lot of research before I buy an...</td>\n",
       "      <td>1</td>\n",
       "      <td>I always lot research I buy anything anymore W...</td>\n",
       "      <td>[1, 1, 1, 2, 1, 24, 1, 1, 1, 1, 1, 1, 1, 1, 1,...</td>\n",
       "      <td>-0.670626</td>\n",
       "    </tr>\n",
       "  </tbody>\n",
       "</table>\n",
       "<p>114 rows × 6 columns</p>\n",
       "</div>"
      ],
      "text/plain": [
       "      class                                               text  Label  \\\n",
       "0      Auto   I have recently purchased a J30T with moderat...      0   \n",
       "1    Camera   I bought this product because I need instant ...      1   \n",
       "2    Camera   Minolta DiMAGE 7Hi is in a digital SLR with 5...      1   \n",
       "3    Camera      From Olympus to Kodak  b I enjoyed using a...      1   \n",
       "4      Auto      General Trooper Information  b The Isuzu T...      0   \n",
       "..      ...                                                ...    ...   \n",
       "109    Auto   Picture this You re in your new black 2000 ci...      0   \n",
       "110    Auto   The Beach Boys really knew what they were tal...      0   \n",
       "111    Auto   I bought a Corolla in 1995  It was my first c...      0   \n",
       "112    Auto   Recently our 12 year old Nissan Stanza decide...      0   \n",
       "113  Camera   I always do a lot of research before I buy an...      1   \n",
       "\n",
       "                                          preprocessed  \\\n",
       "0    I recently purchased J30T moderate mile I shop...   \n",
       "1    I bought product I need instant gratification ...   \n",
       "2    Minolta DiMAGE 7Hi digital SLR 5 megapixel 2 3...   \n",
       "3    From Olympus Kodak b I enjoyed using Olympus d...   \n",
       "4    General Trooper Information b The Isuzu Troope...   \n",
       "..                                                 ...   \n",
       "109  Picture You new black 2000 civic ex moonroof f...   \n",
       "110  The Beach Boys really knew talking singing sai...   \n",
       "111  I bought Corolla 1995 It first car still car M...   \n",
       "112  Recently 12 year old Nissan Stanza decided tim...   \n",
       "113  I always lot research I buy anything anymore W...   \n",
       "\n",
       "                                     vectorized_column     split  \n",
       "0    [1, 1, 1, 1, 1, 9, 1, 1, 1, 1, 1, 1, 1, 1, 2, ... -0.967653  \n",
       "1    [1, 1, 1, 3, 2, 3, 1, 6, 2, 1, 2, 7, 2, 6, 1, ... -0.053892  \n",
       "2    [1, 1, 3, 1, 1, 1, 1, 1, 1, 1, 1, 1, 2, 1, 1, ...  1.401600  \n",
       "3    [1, 1, 2, 1, 1, 1, 2, 1, 1, 2, 1, 1, 1, 3, 1, ...  0.990726  \n",
       "4    [1, 2, 2, 1, 1, 12, 1, 1, 2, 5, 1, 1, 1, 4, 3,...  1.460160  \n",
       "..                                                 ...       ...  \n",
       "109  [1, 1, 1, 1, 1, 1, 1, 3, 3, 1, 1, 1, 1, 1, 1, ...  0.799825  \n",
       "110  [1, 1, 1, 3, 1, 1, 1, 1, 1, 1, 1, 11, 2, 1, 1,...  0.752036  \n",
       "111  [1, 1, 4, 1, 2, 7, 1, 1, 1, 1, 1, 1, 1, 1, 1, ...  0.248560  \n",
       "112  [1, 5, 1, 1, 2, 1, 1, 1, 1, 7, 1, 1, 1, 1, 2, ...  0.026668  \n",
       "113  [1, 1, 1, 2, 1, 24, 1, 1, 1, 1, 1, 1, 1, 1, 1,... -0.670626  \n",
       "\n",
       "[114 rows x 6 columns]"
      ]
     },
     "execution_count": 17,
     "metadata": {},
     "output_type": "execute_result"
    }
   ],
   "source": [
    "test.drop('Unnamed: 0',1)"
   ]
  },
  {
   "cell_type": "markdown",
   "metadata": {},
   "source": [
    "__Train your machine learning algorithm for classificationand prepare a model(you can choose anyappropriate algorithmof your choice)__"
   ]
  },
  {
   "cell_type": "code",
   "execution_count": 18,
   "metadata": {},
   "outputs": [],
   "source": [
    "from sklearn.feature_extraction.text import CountVectorizer\n",
    "vectorizer = CountVectorizer()"
   ]
  },
  {
   "cell_type": "code",
   "execution_count": 19,
   "metadata": {},
   "outputs": [],
   "source": [
    "x_train = vectorizer.fit_transform(train['preprocessed'])\n",
    "y_train = train['Label']"
   ]
  },
  {
   "cell_type": "code",
   "execution_count": null,
   "metadata": {},
   "outputs": [],
   "source": []
  },
  {
   "cell_type": "code",
   "execution_count": 20,
   "metadata": {},
   "outputs": [
    {
     "data": {
      "text/plain": [
       "MultinomialNB()"
      ]
     },
     "execution_count": 20,
     "metadata": {},
     "output_type": "execute_result"
    }
   ],
   "source": [
    "from sklearn.naive_bayes import MultinomialNB\n",
    "from sklearn import metrics\n",
    "nb = MultinomialNB()\n",
    "nb.fit(x_train,y_train)"
   ]
  },
  {
   "cell_type": "code",
   "execution_count": 21,
   "metadata": {},
   "outputs": [],
   "source": [
    "x_test = vectorizer.transform(test['preprocessed'])\n",
    "y_test = test['Label']"
   ]
  },
  {
   "cell_type": "code",
   "execution_count": 22,
   "metadata": {},
   "outputs": [],
   "source": [
    "y_pred=nb.predict(x_test)"
   ]
  },
  {
   "cell_type": "code",
   "execution_count": 23,
   "metadata": {},
   "outputs": [
    {
     "data": {
      "text/html": [
       "<div>\n",
       "<style scoped>\n",
       "    .dataframe tbody tr th:only-of-type {\n",
       "        vertical-align: middle;\n",
       "    }\n",
       "\n",
       "    .dataframe tbody tr th {\n",
       "        vertical-align: top;\n",
       "    }\n",
       "\n",
       "    .dataframe thead th {\n",
       "        text-align: right;\n",
       "    }\n",
       "</style>\n",
       "<table border=\"1\" class=\"dataframe\">\n",
       "  <thead>\n",
       "    <tr style=\"text-align: right;\">\n",
       "      <th></th>\n",
       "      <th>text</th>\n",
       "      <th>class</th>\n",
       "      <th>predicted class</th>\n",
       "    </tr>\n",
       "  </thead>\n",
       "  <tbody>\n",
       "    <tr>\n",
       "      <th>0</th>\n",
       "      <td>I have recently purchased a J30T with moderat...</td>\n",
       "      <td>Auto</td>\n",
       "      <td>Auto</td>\n",
       "    </tr>\n",
       "    <tr>\n",
       "      <th>1</th>\n",
       "      <td>I bought this product because I need instant ...</td>\n",
       "      <td>Camera</td>\n",
       "      <td>Camera</td>\n",
       "    </tr>\n",
       "    <tr>\n",
       "      <th>2</th>\n",
       "      <td>Minolta DiMAGE 7Hi is in a digital SLR with 5...</td>\n",
       "      <td>Camera</td>\n",
       "      <td>Camera</td>\n",
       "    </tr>\n",
       "    <tr>\n",
       "      <th>3</th>\n",
       "      <td>From Olympus to Kodak  b I enjoyed using a...</td>\n",
       "      <td>Camera</td>\n",
       "      <td>Camera</td>\n",
       "    </tr>\n",
       "    <tr>\n",
       "      <th>4</th>\n",
       "      <td>General Trooper Information  b The Isuzu T...</td>\n",
       "      <td>Auto</td>\n",
       "      <td>Auto</td>\n",
       "    </tr>\n",
       "  </tbody>\n",
       "</table>\n",
       "</div>"
      ],
      "text/plain": [
       "                                                text   class predicted class\n",
       "0   I have recently purchased a J30T with moderat...    Auto            Auto\n",
       "1   I bought this product because I need instant ...  Camera          Camera\n",
       "2   Minolta DiMAGE 7Hi is in a digital SLR with 5...  Camera          Camera\n",
       "3      From Olympus to Kodak  b I enjoyed using a...  Camera          Camera\n",
       "4      General Trooper Information  b The Isuzu T...    Auto            Auto"
      ]
     },
     "execution_count": 23,
     "metadata": {},
     "output_type": "execute_result"
    }
   ],
   "source": [
    "def Getclass(val):\n",
    "    if val==0:\n",
    "        return 'Auto'\n",
    "    else:\n",
    "        return 'Camera'\n",
    "\n",
    "result = test.loc[:,['text','class']]\n",
    "result['predicted class'] = list(map(lambda x: Getclass(x),y_pred))\n",
    "result.head()"
   ]
  },
  {
   "cell_type": "code",
   "execution_count": 24,
   "metadata": {},
   "outputs": [
    {
     "data": {
      "text/html": [
       "<div>\n",
       "<style scoped>\n",
       "    .dataframe tbody tr th:only-of-type {\n",
       "        vertical-align: middle;\n",
       "    }\n",
       "\n",
       "    .dataframe tbody tr th {\n",
       "        vertical-align: top;\n",
       "    }\n",
       "\n",
       "    .dataframe thead th {\n",
       "        text-align: right;\n",
       "    }\n",
       "</style>\n",
       "<table border=\"1\" class=\"dataframe\">\n",
       "  <thead>\n",
       "    <tr style=\"text-align: right;\">\n",
       "      <th></th>\n",
       "      <th>text</th>\n",
       "      <th>class</th>\n",
       "      <th>predicted class</th>\n",
       "      <th>ActualValues</th>\n",
       "      <th>PredictedValues</th>\n",
       "    </tr>\n",
       "  </thead>\n",
       "  <tbody>\n",
       "    <tr>\n",
       "      <th>0</th>\n",
       "      <td>I have recently purchased a J30T with moderat...</td>\n",
       "      <td>Auto</td>\n",
       "      <td>Auto</td>\n",
       "      <td>0</td>\n",
       "      <td>0</td>\n",
       "    </tr>\n",
       "    <tr>\n",
       "      <th>1</th>\n",
       "      <td>I bought this product because I need instant ...</td>\n",
       "      <td>Camera</td>\n",
       "      <td>Camera</td>\n",
       "      <td>1</td>\n",
       "      <td>1</td>\n",
       "    </tr>\n",
       "    <tr>\n",
       "      <th>2</th>\n",
       "      <td>Minolta DiMAGE 7Hi is in a digital SLR with 5...</td>\n",
       "      <td>Camera</td>\n",
       "      <td>Camera</td>\n",
       "      <td>1</td>\n",
       "      <td>1</td>\n",
       "    </tr>\n",
       "    <tr>\n",
       "      <th>3</th>\n",
       "      <td>From Olympus to Kodak  b I enjoyed using a...</td>\n",
       "      <td>Camera</td>\n",
       "      <td>Camera</td>\n",
       "      <td>1</td>\n",
       "      <td>1</td>\n",
       "    </tr>\n",
       "    <tr>\n",
       "      <th>4</th>\n",
       "      <td>General Trooper Information  b The Isuzu T...</td>\n",
       "      <td>Auto</td>\n",
       "      <td>Auto</td>\n",
       "      <td>0</td>\n",
       "      <td>0</td>\n",
       "    </tr>\n",
       "  </tbody>\n",
       "</table>\n",
       "</div>"
      ],
      "text/plain": [
       "                                                text   class predicted class  \\\n",
       "0   I have recently purchased a J30T with moderat...    Auto            Auto   \n",
       "1   I bought this product because I need instant ...  Camera          Camera   \n",
       "2   Minolta DiMAGE 7Hi is in a digital SLR with 5...  Camera          Camera   \n",
       "3      From Olympus to Kodak  b I enjoyed using a...  Camera          Camera   \n",
       "4      General Trooper Information  b The Isuzu T...    Auto            Auto   \n",
       "\n",
       "   ActualValues  PredictedValues  \n",
       "0             0                0  \n",
       "1             1                1  \n",
       "2             1                1  \n",
       "3             1                1  \n",
       "4             0                0  "
      ]
     },
     "execution_count": 24,
     "metadata": {},
     "output_type": "execute_result"
    }
   ],
   "source": [
    "def values(x):\n",
    "    if x == 'Auto':\n",
    "        return 0\n",
    "    else:\n",
    "        return 1\n",
    "    \n",
    "        \n",
    "result['ActualValues'] = list(map(lambda x: values(x),result['class']))\n",
    "result['PredictedValues'] = list(map(lambda x: values(x),result['predicted class']))\n",
    "result.head()"
   ]
  },
  {
   "cell_type": "code",
   "execution_count": null,
   "metadata": {},
   "outputs": [],
   "source": []
  },
  {
   "cell_type": "markdown",
   "metadata": {},
   "source": [
    "__Now test the model on the Test data and evaluatethe Performance by providing Confusion Matrix for yourmodel__"
   ]
  },
  {
   "cell_type": "code",
   "execution_count": 25,
   "metadata": {},
   "outputs": [
    {
     "data": {
      "text/plain": [
       "array([[44,  0],\n",
       "       [ 0, 70]])"
      ]
     },
     "execution_count": 25,
     "metadata": {},
     "output_type": "execute_result"
    }
   ],
   "source": [
    "from sklearn.metrics import confusion_matrix\n",
    "confusion_matrix(result['class'],result['predicted class'],labels = ['Auto','Camera'])"
   ]
  },
  {
   "cell_type": "markdown",
   "metadata": {},
   "source": [
    "__Plot ROC Curve__"
   ]
  },
  {
   "cell_type": "code",
   "execution_count": 26,
   "metadata": {},
   "outputs": [],
   "source": [
    "def metric(df):\n",
    "    import matplotlib.pyplot as plt \n",
    "    from sklearn.metrics import roc_curve\n",
    "    from sklearn.metrics import confusion_matrix\n",
    "    from sklearn.metrics import roc_auc_score\n",
    "    tn, fp, fn, tp =  confusion_matrix(df['ActualValues'],df['PredictedValues']).ravel()\n",
    "    fp, tp, thresholds = roc_curve(df['ActualValues'],df['PredictedValues'])\n",
    "    plt.plot(fp, tp)\n",
    "    return(tn, fp, fn, tp)"
   ]
  },
  {
   "cell_type": "code",
   "execution_count": 28,
   "metadata": {},
   "outputs": [
    {
     "data": {
      "text/plain": [
       "(44, array([0., 0., 1.]), 0, array([0., 1., 1.]))"
      ]
     },
     "execution_count": 28,
     "metadata": {},
     "output_type": "execute_result"
    },
    {
     "data": {
      "image/png": "[encoded data removed]",
      "text/plain": [
       "<Figure size 432x288 with 1 Axes>"
      ]
     },
     "metadata": {
      "needs_background": "light"
     },
     "output_type": "display_data"
    }
   ],
   "source": [
    "metric(result)"
   ]
  },
  {
   "cell_type": "code",
   "execution_count": null,
   "metadata": {},
   "outputs": [],
   "source": []
  }
 ],
 "metadata": {
  "hide_input": false,
  "kernelspec": {
   "display_name": "Python 3 (ipykernel)",
   "language": "python",
   "name": "python3"
  },
  "language_info": {
   "codemirror_mode": {
    "name": "ipython",
    "version": 3
   },
   "file_extension": ".py",
   "mimetype": "text/x-python",
   "name": "python",
   "nbconvert_exporter": "python",
   "pygments_lexer": "ipython3",
   "version": "3.7.4"
  },
  "toc": {
   "base_numbering": 1,
   "nav_menu": {},
   "number_sections": true,
   "sideBar": true,
   "skip_h1_title": false,
   "title_cell": "Table of Contents",
   "title_sidebar": "Contents",
   "toc_cell": false,
   "toc_position": {},
   "toc_section_display": true,
   "toc_window_display": false
  },
  "varInspector": {
   "cols": {
    "lenName": 16,
    "lenType": 16,
    "lenVar": 40
   },
   "kernels_config": {
    "python": {
     "delete_cmd_postfix": "",
     "delete_cmd_prefix": "del ",
     "library": "var_list.py",
     "varRefreshCmd": "print(var_dic_list())"
    },
    "r": {
     "delete_cmd_postfix": ") ",
     "delete_cmd_prefix": "rm(",
     "library": "var_list.r",
     "varRefreshCmd": "cat(var_dic_list()) "
    }
   },
   "types_to_exclude": [
    "module",
    "function",
    "builtin_function_or_method",
    "instance",
    "_Feature"
   ],
   "window_display": false
  }
 },
 "nbformat": 4,
 "nbformat_minor": 4
}
