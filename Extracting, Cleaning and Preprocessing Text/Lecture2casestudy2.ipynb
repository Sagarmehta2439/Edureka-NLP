{
 "cells": [
  {
   "cell_type": "markdown",
   "metadata": {},
   "source": [
    "__From this case Study we understand the following concepts:__<br>\n",
    "-> Bigrams,trigrams,ngrams <br>\n",
    "-> Identify the grammar of sentence<br>"
   ]
  },
  {
   "cell_type": "markdown",
   "metadata": {},
   "source": [
    "__Import the libraries__"
   ]
  },
  {
   "cell_type": "code",
   "execution_count": 1,
   "metadata": {},
   "outputs": [],
   "source": [
    "import nltk\n",
    "import pandas as pd"
   ]
  },
  {
   "cell_type": "markdown",
   "metadata": {},
   "source": [
    "\n",
    "__1. Read the file “Brexit.docx” and write a function in Python named “GetNGrams” which takes a string and a number ‘n’ as input and returns n-grams from the string.__<br>\n",
    "_Example_:<br>\n",
    "String: “John met with an accident”<br>\n",
    "_Output_:<br>\n",
    "When n=2 => [(John, met), (met, with), (with, an), (an, accident)] <br>When n=3 => [(John, met, with), (met, with, an), (with, an, accident)] <br>When n=4 => [(John, met, with, an), (met, with, an, accident)]"
   ]
  },
  {
   "cell_type": "code",
   "execution_count": 2,
   "metadata": {},
   "outputs": [],
   "source": [
    "import docx"
   ]
  },
  {
   "cell_type": "code",
   "execution_count": 8,
   "metadata": {},
   "outputs": [
    {
     "data": {
      "text/plain": [
       "'Brexit\\xa0is the impending\\xa0\\xa0of the\\xa0\\xa0(UK) from the\\xa0\\xa0(EU). In a\\xa0, a majority of British voters supported leaving the EU. On 29 March 2017, the\\xa0 invoked\\xa0. The\\xa0\\xa0declares \"exit day\" to be 29 March 2019 at 11\\xa0p.m.\\xa0().'"
      ]
     },
     "execution_count": 8,
     "metadata": {},
     "output_type": "execute_result"
    }
   ],
   "source": [
    "doc = docx.Document('Brexit.docx')\n",
    "len(doc.paragraphs)\n",
    "doc.paragraphs[0].text"
   ]
  },
  {
   "cell_type": "code",
   "execution_count": 9,
   "metadata": {},
   "outputs": [
    {
     "data": {
      "text/plain": [
       "docx.document.Document"
      ]
     },
     "execution_count": 9,
     "metadata": {},
     "output_type": "execute_result"
    }
   ],
   "source": [
    "type(doc)"
   ]
  },
  {
   "cell_type": "code",
   "execution_count": 11,
   "metadata": {},
   "outputs": [
    {
     "name": "stdout",
     "output_type": "stream",
     "text": [
      "Collecting docx2txt\n",
      "  Downloading docx2txt-0.8.tar.gz (2.8 kB)\n",
      "Building wheels for collected packages: docx2txt\n",
      "  Building wheel for docx2txt (setup.py) ... \u001b[?25ldone\n",
      "\u001b[?25h  Created wheel for docx2txt: filename=docx2txt-0.8-py3-none-any.whl size=3964 sha256=e37819bafa86433b25606d77e848a51a63efaa096718ba36877cbd0f117b29cd\n",
      "  Stored in directory: /Users/sagar/Library/Caches/pip/wheels/b7/20/b2/473e3aea9a0c0d3e7b2f7bd81d06d0794fec12752733d1f3a8\n",
      "Successfully built docx2txt\n",
      "Installing collected packages: docx2txt\n",
      "Successfully installed docx2txt-0.8\n",
      "Note: you may need to restart the kernel to use updated packages.\n"
     ]
    }
   ],
   "source": [
    "#pip install docx2txt"
   ]
  },
  {
   "cell_type": "code",
   "execution_count": 12,
   "metadata": {},
   "outputs": [],
   "source": [
    "# converting a docx file to text file\n",
    "import docx2txt\n",
    "string = docx2txt.process('Brexit.docx')"
   ]
  },
  {
   "cell_type": "code",
   "execution_count": 19,
   "metadata": {},
   "outputs": [
    {
     "data": {
      "text/plain": [
       "'Brexit\\xa0is the impending\\xa0withdrawal\\xa0of th'"
      ]
     },
     "execution_count": 19,
     "metadata": {},
     "output_type": "execute_result"
    }
   ],
   "source": [
    "string[0:40]"
   ]
  },
  {
   "cell_type": "markdown",
   "metadata": {},
   "source": [
    "__Writing a function to get n-grams__"
   ]
  },
  {
   "cell_type": "code",
   "execution_count": 15,
   "metadata": {},
   "outputs": [],
   "source": [
    "def GetNGrams(string,n):\n",
    "    import nltk\n",
    "    string_token = nltk.word_tokenize(string)\n",
    "    from nltk.util import bigrams, trigrams, ngrams\n",
    "    string_ngrams = list(nltk.ngrams(string_token,n))\n",
    "    return string_ngrams\n",
    "    \n",
    "    "
   ]
  },
  {
   "cell_type": "code",
   "execution_count": 17,
   "metadata": {},
   "outputs": [
    {
     "data": {
      "text/plain": [
       "[('Brexit', 'is', 'the', 'impending'),\n",
       " ('is', 'the', 'impending', 'withdrawal'),\n",
       " ('the', 'impending', 'withdrawal', 'of'),\n",
       " ('impending', 'withdrawal', 'of', 'the')]"
      ]
     },
     "execution_count": 17,
     "metadata": {},
     "output_type": "execute_result"
    }
   ],
   "source": [
    "GetNGrams(string,4)[:4]"
   ]
  },
  {
   "cell_type": "code",
   "execution_count": 67,
   "metadata": {},
   "outputs": [
    {
     "data": {
      "text/plain": [
       "[('Brexit', 'is', 'the'),\n",
       " ('is', 'the', 'impending'),\n",
       " ('the', 'impending', 'withdrawal'),\n",
       " ('impending', 'withdrawal', 'of')]"
      ]
     },
     "execution_count": 67,
     "metadata": {},
     "output_type": "execute_result"
    }
   ],
   "source": [
    "GetNGrams(string,3)[:4]"
   ]
  },
  {
   "cell_type": "code",
   "execution_count": 68,
   "metadata": {},
   "outputs": [
    {
     "data": {
      "text/plain": [
       "[('Brexit', 'is'),\n",
       " ('is', 'the'),\n",
       " ('the', 'impending'),\n",
       " ('impending', 'withdrawal')]"
      ]
     },
     "execution_count": 68,
     "metadata": {},
     "output_type": "execute_result"
    }
   ],
   "source": [
    "GetNGrams(string,2)[:4]"
   ]
  },
  {
   "cell_type": "markdown",
   "metadata": {},
   "source": [
    "__2. Read the file “Brexit.docx” and write python functions which take a string as an input and returns:__<br>\n",
    "• Number of Nouns (all forms of noun). Take function name as “NounsCount”<br>\n",
    "• Number of Pronouns (all forms). Take function name as “PronounsCount”<br>\n",
    "• Number of Adjectives (all forms). Take function name as “AdjectivesCount”<br>\n",
    "• Number of Verbs (all forms). Take function name as “VerbsCount”<br>\n",
    "• Number of Adverbs (all forms). Take function name as “AdverbsCount” Plot a pie chart showing the distribution of nouns, pronouns, verbs, adverbs and adjectives."
   ]
  },
  {
   "cell_type": "code",
   "execution_count": 26,
   "metadata": {},
   "outputs": [],
   "source": [
    "from nltk import ne_chunk"
   ]
  },
  {
   "cell_type": "code",
   "execution_count": 55,
   "metadata": {},
   "outputs": [],
   "source": [
    "def Grammar(string):\n",
    "    ne_tokens = nltk.word_tokenize(string)\n",
    "    ne_tags = nltk.pos_tag(ne_tokens)\n",
    "    ne_ner = ne_chunk(ne_tags)\n",
    "    print(ne_ner)"
   ]
  },
  {
   "cell_type": "code",
   "execution_count": 69,
   "metadata": {},
   "outputs": [
    {
     "name": "stdout",
     "output_type": "stream",
     "text": [
      "(S\n",
      "  (GPE Brexit/NN)\n",
      "  is/VBZ\n",
      "  the/DT\n",
      "  impending/VBG\n",
      "  withdrawal/NN\n",
      "  of/IN\n",
      "  the/DT\n",
      "  (ORGANIZATION United/NNP Kingdom/NNP)\n",
      "  (/(\n",
      "  UK/NNP\n",
      "  )/)\n",
      "  from/IN\n",
      "  the/DT\n",
      "  (ORGANIZATION European/NNP Union/NNP)\n",
      "  (/(\n",
      "  (GPE EU/NNP)\n",
      "  )/)\n",
      "  ./.\n",
      "  In/IN\n",
      "  a/DT\n",
      "  referendum/NN\n",
      "  on/IN\n",
      "  23/CD\n",
      "  June/NNP\n",
      "  2016/CD\n",
      "  ,/,\n",
      "  a/DT\n",
      "  majority/NN\n",
      "  of/IN\n",
      "  (GPE British/JJ)\n",
      "  voters/NNS\n",
      "  supported/VBD\n",
      "  leaving/VBG\n",
      "  the/DT\n",
      "  (GPE EU/NNP)\n",
      "  ./.\n",
      "  On/IN\n",
      "  29/CD\n",
      "  March/NNP\n",
      "  2017/CD\n",
      "  ,/,\n",
      "  the/DT\n",
      "  (ORGANIZATION UK/NNP)\n",
      "  government/NN\n",
      "  invoked/VBD\n",
      "  Article/NNP\n",
      "  50/CD\n",
      "  of/IN\n",
      "  the/DT\n",
      "  (ORGANIZATION Treaty/NNP)\n",
      "  on/IN\n",
      "  (GPE European/NNP Union/NNP)\n",
      "  ./.\n",
      "  The/DT\n",
      "  (ORGANIZATION European/NNP Union/NNP)\n",
      "  (/(\n",
      "  Withdrawal/NNP\n",
      "  )/)\n",
      "  Act/NNP\n",
      "  2018/CD\n",
      "  declares/VBZ\n",
      "  ``/``\n",
      "  exit/JJ\n",
      "  day/NN\n",
      "  ''/''\n",
      "  to/TO\n",
      "  be/VB\n",
      "  29/CD\n",
      "  March/NNP\n",
      "  2019/CD\n",
      "  at/IN\n",
      "  11/CD\n",
      "  p.m./NN\n",
      "  (/(\n",
      "  (ORGANIZATION Central/JJ European/JJ)\n",
      "  Time/NNP\n",
      "  )/)\n",
      "  ./.\n",
      "  Prime/NNP\n",
      "  Minister/NNP\n",
      "  (PERSON Theresa/NNP May/NNP)\n",
      "  announced/VBD\n",
      "  the/DT\n",
      "  government/NN\n",
      "  's/POS\n",
      "  intention/NN\n",
      "  not/RB\n",
      "  to/TO\n",
      "  seek/VB\n",
      "  permanent/JJ\n",
      "  membership/NN\n",
      "  of/IN\n",
      "  the/DT\n",
      "  (GPE European/JJ)\n",
      "  single/JJ\n",
      "  market/NN\n",
      "  or/CC\n",
      "  the/DT\n",
      "  (GPE EU/NNP)\n",
      "  customs/NNS\n",
      "  union/NN\n",
      "  after/IN\n",
      "  leaving/VBG\n",
      "  the/DT\n",
      "  (GPE EU/NNP)\n",
      "  and/CC\n",
      "  promised/VBD\n",
      "  to/TO\n",
      "  repeal/VB\n",
      "  the/DT\n",
      "  (ORGANIZATION European/NNP)\n",
      "  Communities/NNP\n",
      "  Act/NNP\n",
      "  of/IN\n",
      "  1972/CD\n",
      "  and/CC\n",
      "  incorporate/VB\n",
      "  existing/VBG\n",
      "  (GPE European/NNP Union/NNP)\n",
      "  law/NN\n",
      "  into/IN\n",
      "  (ORGANIZATION UK/NNP)\n",
      "  domestic/JJ\n",
      "  law/NN\n",
      "  ./.\n",
      "  A/DT\n",
      "  new/JJ\n",
      "  government/NN\n",
      "  department/NN\n",
      "  ,/,\n",
      "  the/DT\n",
      "  (ORGANIZATION Department/NNP)\n",
      "  for/IN\n",
      "  Exiting/VBG\n",
      "  the/DT\n",
      "  (ORGANIZATION European/NNP Union/NNP)\n",
      "  ,/,\n",
      "  was/VBD\n",
      "  created/VBN\n",
      "  in/IN\n",
      "  July/NNP\n",
      "  2016/CD\n",
      "  ./.\n",
      "  Negotiations/NNS\n",
      "  with/IN\n",
      "  the/DT\n",
      "  (GPE EU/NNP)\n",
      "  officially/RB\n",
      "  started/VBD\n",
      "  in/IN\n",
      "  June/NNP\n",
      "  2017/CD\n",
      "  ,/,\n",
      "  aiming/VBG\n",
      "  to/TO\n",
      "  complete/VB\n",
      "  the/DT\n",
      "  withdrawal/NN\n",
      "  agreement/NN\n",
      "  by/IN\n",
      "  October/NNP\n",
      "  2018/CD\n",
      "  ./.\n",
      "  In/IN\n",
      "  June/NNP\n",
      "  2018/CD\n",
      "  ,/,\n",
      "  the/DT\n",
      "  (ORGANIZATION UK/NNP)\n",
      "  and/CC\n",
      "  the/DT\n",
      "  (GPE EU/NNP)\n",
      "  published/VBD\n",
      "  a/DT\n",
      "  joint/JJ\n",
      "  progress/NN\n",
      "  report/NN\n",
      "  outlining/VBG\n",
      "  agreement/NN\n",
      "  on/IN\n",
      "  issues/NNS\n",
      "  including/VBG\n",
      "  customs/NNS\n",
      "  ,/,\n",
      "  (ORGANIZATION VAT/NNP)\n",
      "  and/CC\n",
      "  (GPE Euratom/NNP)\n",
      "  ./.\n",
      "  The/DT\n",
      "  (ORGANIZATION UK/NNP)\n",
      "  joined/VBD\n",
      "  the/DT\n",
      "  (ORGANIZATION European/JJ Communities/NNP)\n",
      "  (/(\n",
      "  EC/NNP\n",
      "  )/)\n",
      "  in/IN\n",
      "  1973/CD\n",
      "  ,/,\n",
      "  with/IN\n",
      "  membership/NN\n",
      "  confirmed/VBN\n",
      "  by/IN\n",
      "  a/DT\n",
      "  referendum/NN\n",
      "  in/IN\n",
      "  1975/CD\n",
      "  ./.\n",
      "  In/IN\n",
      "  the/DT\n",
      "  1970s/CD\n",
      "  and/CC\n",
      "  1980s/CD\n",
      "  ,/,\n",
      "  withdrawal/NN\n",
      "  from/IN\n",
      "  the/DT\n",
      "  (ORGANIZATION EC/NNP)\n",
      "  was/VBD\n",
      "  advocated/VBN\n",
      "  mainly/RB\n",
      "  by/IN\n",
      "  (ORGANIZATION Labour/NNP Party/NNP)\n",
      "  members/NNS\n",
      "  and/CC\n",
      "  trade/NN\n",
      "  union/NN\n",
      "  figures/NNS\n",
      "  ./.\n",
      "  From/IN\n",
      "  the/DT\n",
      "  1990s/CD\n",
      "  ,/,\n",
      "  the/DT\n",
      "  main/JJ\n",
      "  advocates/NNS\n",
      "  of/IN\n",
      "  withdrawal/NN\n",
      "  were/VBD\n",
      "  the/DT\n",
      "  newly/RB\n",
      "  founded/VBN\n",
      "  (ORGANIZATION UK/NNP Independence/NNP Party/NNP)\n",
      "  (/(\n",
      "  (ORGANIZATION UKIP/NNP)\n",
      "  )/)\n",
      "  and/CC\n",
      "  an/DT\n",
      "  increasing/VBG\n",
      "  number/NN\n",
      "  of/IN\n",
      "  (GPE Eurosceptic/NNP)\n",
      "  Conservative/NNP\n",
      "  Party/NNP\n",
      "  members/NNS\n",
      "  ./.\n",
      "  Prime/NNP\n",
      "  Minister/NNP\n",
      "  (PERSON David/NNP Cameron/NNP)\n",
      "  held/VBD\n",
      "  the/DT\n",
      "  referendum/NN\n",
      "  in/IN\n",
      "  fulfilment/NN\n",
      "  of/IN\n",
      "  a/DT\n",
      "  2015/CD\n",
      "  manifesto/NN\n",
      "  pledge/NN\n",
      "  ./.\n",
      "  (PERSON Cameron/NNP)\n",
      "  ,/,\n",
      "  who/WP\n",
      "  had/VBD\n",
      "  campaigned/VBN\n",
      "  for/IN\n",
      "  ``/``\n",
      "  Remain/NNP\n",
      "  ''/''\n",
      "  ,/,\n",
      "  resigned/VBD\n",
      "  after/IN\n",
      "  the/DT\n",
      "  referendum/NN\n",
      "  result/NN\n",
      "  and/CC\n",
      "  was/VBD\n",
      "  succeeded/VBN\n",
      "  by/IN\n",
      "  (PERSON Theresa/NNP May/NNP)\n",
      "  ,/,\n",
      "  who/WP\n",
      "  called/VBD\n",
      "  a/DT\n",
      "  snap/JJ\n",
      "  general/JJ\n",
      "  election/NN\n",
      "  less/JJR\n",
      "  than/IN\n",
      "  a/DT\n",
      "  year/NN\n",
      "  later/RB\n",
      "  ,/,\n",
      "  in/IN\n",
      "  which/WDT\n",
      "  she/PRP\n",
      "  lost/VBD\n",
      "  her/PRP\n",
      "  overall/JJ\n",
      "  majority/NN\n",
      "  ./.\n",
      "  Her/PRP$\n",
      "  minority/NN\n",
      "  government/NN\n",
      "  is/VBZ\n",
      "  supported/VBN\n",
      "  in/IN\n",
      "  key/JJ\n",
      "  votes/NNS\n",
      "  by/IN\n",
      "  the/DT\n",
      "  (ORGANIZATION Democratic/JJ Unionist/NNP Party/NNP)\n",
      "  ./.\n",
      "  Six/NNP\n",
      "  weeks/NNS\n",
      "  after/IN\n",
      "  the/DT\n",
      "  referendum/NN\n",
      "  ,/,\n",
      "  the/DT\n",
      "  (ORGANIZATION Bank/NNP)\n",
      "  of/IN\n",
      "  (GPE England/NNP)\n",
      "  introduced/VBD\n",
      "  quantitative/JJ\n",
      "  easing/NN\n",
      "  and/CC\n",
      "  lower/JJR\n",
      "  interest/NN\n",
      "  rates/NNS\n",
      "  ,/,\n",
      "  thus/RB\n",
      "  allowing/VBG\n",
      "  both/DT\n",
      "  depreciation/NN\n",
      "  of/IN\n",
      "  sterling/NN\n",
      "  and/CC\n",
      "  a/DT\n",
      "  rise/NN\n",
      "  in/IN\n",
      "  inflation/NN\n",
      "  that/IN\n",
      "  outpaced/VBD\n",
      "  wage/NN\n",
      "  growth/NN\n",
      "  for/IN\n",
      "  most/JJS\n",
      "  of/IN\n",
      "  2017/CD\n",
      "  ./.\n",
      "  The/DT\n",
      "  drop/NN\n",
      "  in/IN\n",
      "  the/DT\n",
      "  value/NN\n",
      "  of/IN\n",
      "  sterling/NN\n",
      "  has/VBZ\n",
      "  been/VBN\n",
      "  claimed/VBN\n",
      "  to/TO\n",
      "  have/VB\n",
      "  been/VBN\n",
      "  caused/VBN\n",
      "  in/IN\n",
      "  part/NN\n",
      "  by/IN\n",
      "  hedge-fund/NN\n",
      "  managers/NNS\n",
      "  betting/VBG\n",
      "  on/IN\n",
      "  (GPE Brexit/NNP)\n",
      "  against/IN\n",
      "  polls/NNS\n",
      "  predicting/VBG\n",
      "  a/DT\n",
      "  narrow/JJ\n",
      "  victory/NN\n",
      "  for/IN\n",
      "  the/DT\n",
      "  ``/``\n",
      "  Remain/NNP\n",
      "  ''/''\n",
      "  camp/NN\n",
      "  ./.\n",
      "  There/EX\n",
      "  is/VBZ\n",
      "  a/DT\n",
      "  broad/JJ\n",
      "  consensus/NN\n",
      "  in/IN\n",
      "  existing/VBG\n",
      "  economic/JJ\n",
      "  research/NN\n",
      "  that/IN\n",
      "  (PERSON Brexit/NNP)\n",
      "  is/VBZ\n",
      "  likely/JJ\n",
      "  to/TO\n",
      "  reduce/VB\n",
      "  the/DT\n",
      "  (ORGANIZATION UK/NNP)\n",
      "  's/POS\n",
      "  real/JJ\n",
      "  per/IN\n",
      "  capita/JJ\n",
      "  income/NN\n",
      "  in/IN\n",
      "  the/DT\n",
      "  medium/JJ\n",
      "  term/NN\n",
      "  and/CC\n",
      "  long/JJ\n",
      "  term/NN\n",
      "  ./.\n",
      "  There/EX\n",
      "  is/VBZ\n",
      "  also/RB\n",
      "  agreement/NN\n",
      "  among/IN\n",
      "  economists/NNS\n",
      "  that/IN\n",
      "  the/DT\n",
      "  (ORGANIZATION Brexit/NNP)\n",
      "  referendum/VBD\n",
      "  itself/PRP\n",
      "  damaged/VBD\n",
      "  the/DT\n",
      "  economy/NN\n",
      "  in/IN\n",
      "  the/DT\n",
      "  subsequent/JJ\n",
      "  two/CD\n",
      "  years/NNS\n",
      "  ./.\n",
      "  Studies/NNS\n",
      "  on/IN\n",
      "  effects/NNS\n",
      "  that/WDT\n",
      "  have/VBP\n",
      "  materialised/VBN\n",
      "  since/IN\n",
      "  the/DT\n",
      "  referendum/NN\n",
      "  show/VBP\n",
      "  annual/JJ\n",
      "  losses/NNS\n",
      "  of/IN\n",
      "  £404/NN\n",
      "  for/IN\n",
      "  the/DT\n",
      "  average/JJ\n",
      "  UK/NNP\n",
      "  household/NN\n",
      "  ,/,\n",
      "  and/CC\n",
      "  losses/NNS\n",
      "  between/IN\n",
      "  1.3/CD\n",
      "  %/NN\n",
      "  and/CC\n",
      "  2.1/CD\n",
      "  %/NN\n",
      "  of/IN\n",
      "  (ORGANIZATION UK/NNP)\n",
      "  GDP/NNP\n",
      "  ./.\n",
      "  (PERSON Brexit/NN)\n",
      "  is/VBZ\n",
      "  likely/JJ\n",
      "  to/TO\n",
      "  reduce/VB\n",
      "  immigration/NN\n",
      "  from/IN\n",
      "  (GPE European/JJ)\n",
      "  (ORGANIZATION Economic/NNP Area/NNP)\n",
      "  (/(\n",
      "  (ORGANIZATION EEA/NNP)\n",
      "  )/)\n",
      "  countries/NNS\n",
      "  to/TO\n",
      "  the/DT\n",
      "  (ORGANIZATION UK/NNP)\n",
      "  ,/,\n",
      "  and/CC\n",
      "  poses/NNS\n",
      "  challenges/NNS\n",
      "  for/IN\n",
      "  (ORGANIZATION UK/NNP)\n",
      "  higher/JJR\n",
      "  education/NN\n",
      "  and/CC\n",
      "  academic/JJ\n",
      "  research/NN\n",
      "  ./.\n",
      "  As/IN\n",
      "  of/IN\n",
      "  June/NNP\n",
      "  2018/CD\n",
      "  ,/,\n",
      "  the/DT\n",
      "  size/NN\n",
      "  of/IN\n",
      "  the/DT\n",
      "  ``/``\n",
      "  divorce/NN\n",
      "  bill/NN\n",
      "  ''/''\n",
      "  ,/,\n",
      "  the/DT\n",
      "  (ORGANIZATION UK/NNP)\n",
      "  's/POS\n",
      "  inheritance/NN\n",
      "  of/IN\n",
      "  existing/VBG\n",
      "  (GPE EU/NNP)\n",
      "  trade/NN\n",
      "  agreements/NNS\n",
      "  ,/,\n",
      "  and/CC\n",
      "  relations/NNS\n",
      "  with/IN\n",
      "  (GPE Ireland/NNP)\n",
      "  and/CC\n",
      "  other/JJ\n",
      "  (GPE EU/NNP)\n",
      "  member/NN\n",
      "  states/NNS\n",
      "  remain/VBP\n",
      "  uncertain/JJ\n",
      "  ./.\n",
      "  The/DT\n",
      "  precise/JJ\n",
      "  impact/NN\n",
      "  on/IN\n",
      "  the/DT\n",
      "  (ORGANIZATION UK/NNP)\n",
      "  depends/VBZ\n",
      "  on/IN\n",
      "  whether/IN\n",
      "  the/DT\n",
      "  process/NN\n",
      "  will/MD\n",
      "  be/VB\n",
      "  a/DT\n",
      "  ''/''\n",
      "  hard/JJ\n",
      "  ''/''\n",
      "  or/CC\n",
      "  a/DT\n",
      "  ``/``\n",
      "  soft/JJ\n",
      "  ''/''\n",
      "  Brexit/NN\n",
      "  ./.)\n"
     ]
    }
   ],
   "source": [
    "Grammar(string)"
   ]
  },
  {
   "cell_type": "markdown",
   "metadata": {},
   "source": [
    "4. Answer the following questions:\n",
    "• Most frequent bi-gram from the data\n",
    "• Most frequent Noun\n",
    "• Most frequent GeoPolitical Entity\n",
    "• Most frequent person"
   ]
  },
  {
   "cell_type": "code",
   "execution_count": 58,
   "metadata": {},
   "outputs": [
    {
     "name": "stdout",
     "output_type": "stream",
     "text": [
      "[((',', 'the'), 7), (('the', 'UK'), 6), (('the', 'European'), 5), (('European', 'Union'), 5), (('the', 'EU'), 5), (('of', 'the'), 4), (('.', 'The'), 4), (('the', 'referendum'), 4), (('Brexit', 'is'), 3), (('.', 'In'), 3)]\n"
     ]
    }
   ],
   "source": [
    "from collections import Counter\n",
    "\n",
    "bigrams = GetNGrams(string,2)\n",
    "counts = Counter(bigrams)\n",
    "print(counts.most_common(10))"
   ]
  },
  {
   "cell_type": "code",
   "execution_count": 61,
   "metadata": {},
   "outputs": [],
   "source": [
    "string_token = nltk.word_tokenize(string)"
   ]
  },
  {
   "cell_type": "code",
   "execution_count": 64,
   "metadata": {},
   "outputs": [],
   "source": [
    "from nltk.probability import FreqDist"
   ]
  },
  {
   "cell_type": "code",
   "execution_count": 65,
   "metadata": {},
   "outputs": [],
   "source": [
    "fdist = FreqDist()"
   ]
  },
  {
   "cell_type": "code",
   "execution_count": 66,
   "metadata": {},
   "outputs": [
    {
     "data": {
      "text/plain": [
       "FreqDist({'the': 47, '.': 22, ',': 21, 'of': 17, 'and': 17, 'in': 16, 'uk': 13, 'a': 13, 'european': 10, 'eu': 8, ...})"
      ]
     },
     "execution_count": 66,
     "metadata": {},
     "output_type": "execute_result"
    }
   ],
   "source": [
    "for word in string_token:\n",
    "    fdist[word.lower()] += 1\n",
    "fdist"
   ]
  }
 ],
 "metadata": {
  "hide_input": false,
  "kernelspec": {
   "display_name": "Python 3 (ipykernel)",
   "language": "python",
   "name": "python3"
  },
  "language_info": {
   "codemirror_mode": {
    "name": "ipython",
    "version": 3
   },
   "file_extension": ".py",
   "mimetype": "text/x-python",
   "name": "python",
   "nbconvert_exporter": "python",
   "pygments_lexer": "ipython3",
   "version": "3.7.4"
  },
  "toc": {
   "base_numbering": 1,
   "nav_menu": {},
   "number_sections": true,
   "sideBar": true,
   "skip_h1_title": false,
   "title_cell": "Table of Contents",
   "title_sidebar": "Contents",
   "toc_cell": false,
   "toc_position": {},
   "toc_section_display": true,
   "toc_window_display": false
  },
  "varInspector": {
   "cols": {
    "lenName": 16,
    "lenType": 16,
    "lenVar": 40
   },
   "kernels_config": {
    "python": {
     "delete_cmd_postfix": "",
     "delete_cmd_prefix": "del ",
     "library": "var_list.py",
     "varRefreshCmd": "print(var_dic_list())"
    },
    "r": {
     "delete_cmd_postfix": ") ",
     "delete_cmd_prefix": "rm(",
     "library": "var_list.r",
     "varRefreshCmd": "cat(var_dic_list()) "
    }
   },
   "types_to_exclude": [
    "module",
    "function",
    "builtin_function_or_method",
    "instance",
    "_Feature"
   ],
   "window_display": false
  }
 },
 "nbformat": 4,
 "nbformat_minor": 4
}
