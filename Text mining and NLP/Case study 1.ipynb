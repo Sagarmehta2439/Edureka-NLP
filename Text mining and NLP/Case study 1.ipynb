{
 "cells": [
  {
   "cell_type": "markdown",
   "metadata": {},
   "source": [
    "__This assignment helps in understanding the following concepts__<br>\n",
    "-> Identifying and changing the working directory<br>\n",
    "-> Creating and renaming a text %%file<br>\n",
    "-> Working with Docx file<br>\n",
    "-> Working with Pandas module<br>"
   ]
  },
  {
   "cell_type": "markdown",
   "metadata": {},
   "source": [
    "__1.Write code snippetsin python to perform the following tasks__<br>•Print your current working directory<br>•Create a new directory on your desktop named: “Text Mining and NLP”<br>•Make “Text Mining and NLP” your current working directory"
   ]
  },
  {
   "cell_type": "code",
   "execution_count": 1,
   "metadata": {},
   "outputs": [
    {
     "data": {
      "text/plain": [
       "'/Users/sagar/Desktop/EDUREKA/Python/NLP/Assignments'"
      ]
     },
     "execution_count": 1,
     "metadata": {},
     "output_type": "execute_result"
    }
   ],
   "source": [
    "import os\n",
    "os.getcwd()"
   ]
  },
  {
   "cell_type": "code",
   "execution_count": 2,
   "metadata": {},
   "outputs": [],
   "source": [
    "os.chdir('/Users/sagar/Desktop/EDUREKA/Python/NLP/Assignments/Text Mining and NLP')"
   ]
  },
  {
   "cell_type": "code",
   "execution_count": 3,
   "metadata": {},
   "outputs": [
    {
     "data": {
      "text/plain": [
       "'/Users/sagar/Desktop/EDUREKA/Python/NLP/Assignments/Text Mining and NLP'"
      ]
     },
     "execution_count": 3,
     "metadata": {},
     "output_type": "execute_result"
    }
   ],
   "source": [
    "os.getcwd()"
   ]
  },
  {
   "cell_type": "markdown",
   "metadata": {},
   "source": [
    "2.Write code snippets in python to performthe following tasks:•Create a text file named “Greetings.txt” and write “Welcome toText Mining and Natural Language Processing”•Move thisfile to the folder “Text Mining and NLP” which you created in ques 1•Rename this file to “Welcome.txt”"
   ]
  },
  {
   "cell_type": "markdown",
   "metadata": {},
   "source": [
    "__Create a text file named “Greetings.txt__"
   ]
  },
  {
   "cell_type": "markdown",
   "metadata": {},
   "source": [
    "Greetings = \"Welcome to Text Mining and Natural Language Processing\""
   ]
  },
  {
   "cell_type": "markdown",
   "metadata": {},
   "source": [
    "__Move thisfile to the folder “Text Mining and NLP” which you created in ques 1__"
   ]
  },
  {
   "cell_type": "code",
   "execution_count": 26,
   "metadata": {},
   "outputs": [],
   "source": [
    "with open('Greetings.txt','w') as file:\n",
    "    file.write(Greetings)"
   ]
  },
  {
   "cell_type": "markdown",
   "metadata": {},
   "source": [
    "__•Rename this file to “Welcome.txt”__"
   ]
  },
  {
   "cell_type": "code",
   "execution_count": 27,
   "metadata": {},
   "outputs": [],
   "source": [
    "os.rename('/Users/sagar/Desktop/EDUREKA/Python/NLP/Assignments/Text Mining and NLP/Greetings.txt','/Users/sagar/Desktop/EDUREKA/Python/NLP/Assignments/Text Mining and NLP/Welcome.txt')"
   ]
  },
  {
   "cell_type": "code",
   "execution_count": 36,
   "metadata": {},
   "outputs": [
    {
     "name": "stdout",
     "output_type": "stream",
     "text": [
      "Welcome to Text Mining and Natural Language Processing\n"
     ]
    }
   ],
   "source": [
    "with open('Welcome.txt','r') as file:\n",
    "    Welcome = file.read()\n",
    "    print(Welcome)\n"
   ]
  },
  {
   "cell_type": "markdown",
   "metadata": {},
   "source": [
    "__3.You are given a docx file named “NLP.docx”. Perform the following tasks:•Use DOCXmodule to open the file and perform the following tasks:•How many paragraphs are there in the file?•For each paragraph, print the number of words it contains•Read the content from “Welcome.txt” file which you created in question number 2 and make that content the first paragraph in “NLP.docx” file__"
   ]
  },
  {
   "cell_type": "code",
   "execution_count": 37,
   "metadata": {},
   "outputs": [],
   "source": [
    "import docx"
   ]
  },
  {
   "cell_type": "code",
   "execution_count": 39,
   "metadata": {},
   "outputs": [
    {
     "data": {
      "text/plain": [
       "26"
      ]
     },
     "execution_count": 39,
     "metadata": {},
     "output_type": "execute_result"
    }
   ],
   "source": [
    "doc = docx.Document('NLP.docx')\n",
    "len(doc.paragraphs)"
   ]
  },
  {
   "cell_type": "markdown",
   "metadata": {},
   "source": [
    "__For each paragraph, print the number of words it contains__"
   ]
  },
  {
   "cell_type": "code",
   "execution_count": 75,
   "metadata": {},
   "outputs": [
    {
     "name": "stdout",
     "output_type": "stream",
     "text": [
      "\n",
      "The number of words in paragraph 0: 500 \n",
      "\n",
      "The number of words in paragraph 1: 355 \n",
      "\n",
      "The number of words in paragraph 2: 755 \n",
      "\n",
      "The number of words in paragraph 3: 170 \n",
      "\n",
      "The number of words in paragraph 4: 41 \n",
      "\n",
      "The number of words in paragraph 5: 445 \n",
      "\n",
      "The number of words in paragraph 6: 273 \n",
      "\n",
      "The number of words in paragraph 7: 419 \n",
      "\n",
      "The number of words in paragraph 8: 301 \n",
      "\n",
      "The number of words in paragraph 9: 316 \n",
      "\n",
      "The number of words in paragraph 10: 55 \n",
      "\n",
      "The number of words in paragraph 11: 396 \n",
      "\n",
      "The number of words in paragraph 12: 248 \n",
      "\n",
      "The number of words in paragraph 13: 522 \n",
      "\n",
      "The number of words in paragraph 14: 585 \n",
      "\n",
      "The number of words in paragraph 15: 43 \n",
      "\n",
      "The number of words in paragraph 16: 325 \n",
      "\n",
      "The number of words in paragraph 17: 652 \n",
      "\n",
      "The number of words in paragraph 18: 226 \n",
      "\n",
      "The number of words in paragraph 19: 362 \n",
      "\n",
      "The number of words in paragraph 20: 369 \n",
      "\n",
      "The number of words in paragraph 21: 42 \n",
      "\n",
      "The number of words in paragraph 22: 515 \n",
      "\n",
      "The number of words in paragraph 23: 554 \n",
      "\n",
      "The number of words in paragraph 24: 433 \n",
      "\n",
      "The number of words in paragraph 25: 396 \n"
     ]
    }
   ],
   "source": [
    "for i in range(0,26):\n",
    "    print(f\"\\nThe number of words in paragraph {i}: {len(doc.paragraphs[i].text)} \")"
   ]
  },
  {
   "cell_type": "markdown",
   "metadata": {},
   "source": [
    "__Read the content from “Welcome.txt” file which you created in question number 2 and make that content the first paragraph in “NLP.docx” file__"
   ]
  },
  {
   "cell_type": "code",
   "execution_count": 76,
   "metadata": {},
   "outputs": [
    {
     "data": {
      "text/plain": [
       "'Welcome to Text Mining and Natural Language Processing'"
      ]
     },
     "execution_count": 76,
     "metadata": {},
     "output_type": "execute_result"
    }
   ],
   "source": [
    "Welcome"
   ]
  },
  {
   "cell_type": "code",
   "execution_count": 79,
   "metadata": {},
   "outputs": [],
   "source": [
    "doc.paragraphs[0].text = Welcome"
   ]
  },
  {
   "cell_type": "code",
   "execution_count": 83,
   "metadata": {},
   "outputs": [
    {
     "data": {
      "text/plain": [
       "'Welcome to Text Mining and Natural Language Processing'"
      ]
     },
     "execution_count": 83,
     "metadata": {},
     "output_type": "execute_result"
    }
   ],
   "source": [
    "doc.paragraphs[0].text"
   ]
  },
  {
   "cell_type": "code",
   "execution_count": 86,
   "metadata": {},
   "outputs": [
    {
     "data": {
      "text/plain": [
       "'The\\xa0Economist\\xa0states, that this paradigm has shifted language technology from usable at a pinch to really rather good”. So, when Barclays, a British bank, offered an identification using a user’s voice and NLP, 84 percent of the users signed up within five months, indicating that consumers are jumping on the bandwagon and wanting more benefits from NLP.'"
      ]
     },
     "execution_count": 86,
     "metadata": {},
     "output_type": "execute_result"
    }
   ],
   "source": [
    "doc.paragraphs[1].text"
   ]
  },
  {
   "cell_type": "markdown",
   "metadata": {},
   "source": [
    "__4.You are given a csv file named “EmployeeDetails.csv”. Perform the following tasks:•Use pandas module to read the csv file__"
   ]
  },
  {
   "cell_type": "code",
   "execution_count": 87,
   "metadata": {},
   "outputs": [],
   "source": [
    "import pandas as pd"
   ]
  },
  {
   "cell_type": "code",
   "execution_count": 89,
   "metadata": {},
   "outputs": [
    {
     "data": {
      "text/html": [
       "<div>\n",
       "<style scoped>\n",
       "    .dataframe tbody tr th:only-of-type {\n",
       "        vertical-align: middle;\n",
       "    }\n",
       "\n",
       "    .dataframe tbody tr th {\n",
       "        vertical-align: top;\n",
       "    }\n",
       "\n",
       "    .dataframe thead th {\n",
       "        text-align: right;\n",
       "    }\n",
       "</style>\n",
       "<table border=\"1\" class=\"dataframe\">\n",
       "  <thead>\n",
       "    <tr style=\"text-align: right;\">\n",
       "      <th></th>\n",
       "      <th>Name</th>\n",
       "      <th>Age</th>\n",
       "      <th>Salary</th>\n",
       "    </tr>\n",
       "  </thead>\n",
       "  <tbody>\n",
       "    <tr>\n",
       "      <th>0</th>\n",
       "      <td>Arjun singh</td>\n",
       "      <td>24</td>\n",
       "      <td>10000</td>\n",
       "    </tr>\n",
       "    <tr>\n",
       "      <th>1</th>\n",
       "      <td>Vibhor Jha</td>\n",
       "      <td>26</td>\n",
       "      <td>25000</td>\n",
       "    </tr>\n",
       "    <tr>\n",
       "      <th>2</th>\n",
       "      <td>Yoshita Debnath</td>\n",
       "      <td>23</td>\n",
       "      <td>15000</td>\n",
       "    </tr>\n",
       "    <tr>\n",
       "      <th>3</th>\n",
       "      <td>Abhitesh Setia</td>\n",
       "      <td>25</td>\n",
       "      <td>18000</td>\n",
       "    </tr>\n",
       "    <tr>\n",
       "      <th>4</th>\n",
       "      <td>Shaurya Nayar</td>\n",
       "      <td>26</td>\n",
       "      <td>30000</td>\n",
       "    </tr>\n",
       "  </tbody>\n",
       "</table>\n",
       "</div>"
      ],
      "text/plain": [
       "             Name   Age  Salary\n",
       "0     Arjun singh    24   10000\n",
       "1       Vibhor Jha   26   25000\n",
       "2  Yoshita Debnath   23   15000\n",
       "3   Abhitesh Setia   25   18000\n",
       "4    Shaurya Nayar   26   30000"
      ]
     },
     "execution_count": 89,
     "metadata": {},
     "output_type": "execute_result"
    }
   ],
   "source": [
    "ed = pd.read_csv('EmployeeDetails.csv')\n",
    "ed.head()"
   ]
  },
  {
   "cell_type": "code",
   "execution_count": 99,
   "metadata": {},
   "outputs": [
    {
     "data": {
      "text/plain": [
       "Index(['Name ', 'Age', 'Salary'], dtype='object')"
      ]
     },
     "execution_count": 99,
     "metadata": {},
     "output_type": "execute_result"
    }
   ],
   "source": [
    "ed.columns"
   ]
  },
  {
   "cell_type": "code",
   "execution_count": null,
   "metadata": {},
   "outputs": [],
   "source": []
  },
  {
   "cell_type": "code",
   "execution_count": 101,
   "metadata": {},
   "outputs": [
    {
     "data": {
      "text/html": [
       "<div>\n",
       "<style scoped>\n",
       "    .dataframe tbody tr th:only-of-type {\n",
       "        vertical-align: middle;\n",
       "    }\n",
       "\n",
       "    .dataframe tbody tr th {\n",
       "        vertical-align: top;\n",
       "    }\n",
       "\n",
       "    .dataframe thead th {\n",
       "        text-align: right;\n",
       "    }\n",
       "</style>\n",
       "<table border=\"1\" class=\"dataframe\">\n",
       "  <thead>\n",
       "    <tr style=\"text-align: right;\">\n",
       "      <th></th>\n",
       "      <th>Name</th>\n",
       "      <th>Age</th>\n",
       "      <th>Salary</th>\n",
       "      <th>First Name</th>\n",
       "      <th>Last Name</th>\n",
       "    </tr>\n",
       "  </thead>\n",
       "  <tbody>\n",
       "    <tr>\n",
       "      <th>0</th>\n",
       "      <td>Arjun singh</td>\n",
       "      <td>24</td>\n",
       "      <td>10000</td>\n",
       "      <td>Arjun</td>\n",
       "      <td>singh</td>\n",
       "    </tr>\n",
       "    <tr>\n",
       "      <th>1</th>\n",
       "      <td>Vibhor Jha</td>\n",
       "      <td>26</td>\n",
       "      <td>25000</td>\n",
       "      <td>Vibhor</td>\n",
       "      <td>Jha</td>\n",
       "    </tr>\n",
       "    <tr>\n",
       "      <th>2</th>\n",
       "      <td>Yoshita Debnath</td>\n",
       "      <td>23</td>\n",
       "      <td>15000</td>\n",
       "      <td>Yoshita</td>\n",
       "      <td>Debnath</td>\n",
       "    </tr>\n",
       "    <tr>\n",
       "      <th>3</th>\n",
       "      <td>Abhitesh Setia</td>\n",
       "      <td>25</td>\n",
       "      <td>18000</td>\n",
       "      <td>Abhitesh</td>\n",
       "      <td>Setia</td>\n",
       "    </tr>\n",
       "    <tr>\n",
       "      <th>4</th>\n",
       "      <td>Shaurya Nayar</td>\n",
       "      <td>26</td>\n",
       "      <td>30000</td>\n",
       "      <td>Shaurya</td>\n",
       "      <td>Nayar</td>\n",
       "    </tr>\n",
       "  </tbody>\n",
       "</table>\n",
       "</div>"
      ],
      "text/plain": [
       "             Name   Age  Salary First Name Last Name\n",
       "0     Arjun singh    24   10000      Arjun     singh\n",
       "1       Vibhor Jha   26   25000     Vibhor       Jha\n",
       "2  Yoshita Debnath   23   15000    Yoshita   Debnath\n",
       "3   Abhitesh Setia   25   18000   Abhitesh     Setia\n",
       "4    Shaurya Nayar   26   30000    Shaurya     Nayar"
      ]
     },
     "execution_count": 101,
     "metadata": {},
     "output_type": "execute_result"
    }
   ],
   "source": [
    "ed['First Name'] = ed['Name '].str.split(\" \").str.get(0)\n",
    "ed['Last Name'] = ed['Name '].str.split(\" \").str.get(1)\n",
    "ed.head()"
   ]
  },
  {
   "cell_type": "code",
   "execution_count": null,
   "metadata": {},
   "outputs": [],
   "source": [
    "ed.drop('Name ',axis = 1,inplace = True)"
   ]
  },
  {
   "cell_type": "code",
   "execution_count": 110,
   "metadata": {},
   "outputs": [],
   "source": [
    "ed['Salary'] = ed['Salary'] + (ed['Salary'] * 0.01 )"
   ]
  },
  {
   "cell_type": "code",
   "execution_count": 111,
   "metadata": {},
   "outputs": [
    {
     "data": {
      "text/html": [
       "<div>\n",
       "<style scoped>\n",
       "    .dataframe tbody tr th:only-of-type {\n",
       "        vertical-align: middle;\n",
       "    }\n",
       "\n",
       "    .dataframe tbody tr th {\n",
       "        vertical-align: top;\n",
       "    }\n",
       "\n",
       "    .dataframe thead th {\n",
       "        text-align: right;\n",
       "    }\n",
       "</style>\n",
       "<table border=\"1\" class=\"dataframe\">\n",
       "  <thead>\n",
       "    <tr style=\"text-align: right;\">\n",
       "      <th></th>\n",
       "      <th>Age</th>\n",
       "      <th>Salary</th>\n",
       "      <th>First Name</th>\n",
       "      <th>Last Name</th>\n",
       "    </tr>\n",
       "  </thead>\n",
       "  <tbody>\n",
       "    <tr>\n",
       "      <th>0</th>\n",
       "      <td>24</td>\n",
       "      <td>10100.0</td>\n",
       "      <td>Arjun</td>\n",
       "      <td>singh</td>\n",
       "    </tr>\n",
       "    <tr>\n",
       "      <th>1</th>\n",
       "      <td>26</td>\n",
       "      <td>25250.0</td>\n",
       "      <td>Vibhor</td>\n",
       "      <td>Jha</td>\n",
       "    </tr>\n",
       "    <tr>\n",
       "      <th>2</th>\n",
       "      <td>23</td>\n",
       "      <td>15150.0</td>\n",
       "      <td>Yoshita</td>\n",
       "      <td>Debnath</td>\n",
       "    </tr>\n",
       "    <tr>\n",
       "      <th>3</th>\n",
       "      <td>25</td>\n",
       "      <td>18180.0</td>\n",
       "      <td>Abhitesh</td>\n",
       "      <td>Setia</td>\n",
       "    </tr>\n",
       "    <tr>\n",
       "      <th>4</th>\n",
       "      <td>26</td>\n",
       "      <td>30300.0</td>\n",
       "      <td>Shaurya</td>\n",
       "      <td>Nayar</td>\n",
       "    </tr>\n",
       "  </tbody>\n",
       "</table>\n",
       "</div>"
      ],
      "text/plain": [
       "   Age   Salary First Name Last Name\n",
       "0   24  10100.0      Arjun     singh\n",
       "1   26  25250.0     Vibhor       Jha\n",
       "2   23  15150.0    Yoshita   Debnath\n",
       "3   25  18180.0   Abhitesh     Setia\n",
       "4   26  30300.0    Shaurya     Nayar"
      ]
     },
     "execution_count": 111,
     "metadata": {},
     "output_type": "execute_result"
    }
   ],
   "source": [
    "ed.head()"
   ]
  },
  {
   "cell_type": "code",
   "execution_count": 112,
   "metadata": {},
   "outputs": [],
   "source": [
    "ed.to_csv('Employee_Data.csv')"
   ]
  },
  {
   "cell_type": "code",
   "execution_count": null,
   "metadata": {},
   "outputs": [],
   "source": []
  }
 ],
 "metadata": {
  "hide_input": false,
  "kernelspec": {
   "display_name": "Python 3 (ipykernel)",
   "language": "python",
   "name": "python3"
  },
  "language_info": {
   "codemirror_mode": {
    "name": "ipython",
    "version": 3
   },
   "file_extension": ".py",
   "mimetype": "text/x-python",
   "name": "python",
   "nbconvert_exporter": "python",
   "pygments_lexer": "ipython3",
   "version": "3.7.4"
  },
  "toc": {
   "base_numbering": 1,
   "nav_menu": {},
   "number_sections": true,
   "sideBar": true,
   "skip_h1_title": false,
   "title_cell": "Table of Contents",
   "title_sidebar": "Contents",
   "toc_cell": false,
   "toc_position": {},
   "toc_section_display": true,
   "toc_window_display": false
  },
  "varInspector": {
   "cols": {
    "lenName": 16,
    "lenType": 16,
    "lenVar": 40
   },
   "kernels_config": {
    "python": {
     "delete_cmd_postfix": "",
     "delete_cmd_prefix": "del ",
     "library": "var_list.py",
     "varRefreshCmd": "print(var_dic_list())"
    },
    "r": {
     "delete_cmd_postfix": ") ",
     "delete_cmd_prefix": "rm(",
     "library": "var_list.r",
     "varRefreshCmd": "cat(var_dic_list()) "
    }
   },
   "types_to_exclude": [
    "module",
    "function",
    "builtin_function_or_method",
    "instance",
    "_Feature"
   ],
   "window_display": false
  }
 },
 "nbformat": 4,
 "nbformat_minor": 4
}
