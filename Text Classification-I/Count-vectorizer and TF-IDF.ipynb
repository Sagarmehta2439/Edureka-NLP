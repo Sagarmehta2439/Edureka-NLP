{
 "cells": [
  {
   "cell_type": "markdown",
   "metadata": {},
   "source": [
    "__Concepts learn from this case study__\n",
    "-> CountVectorization\n",
    "-> TFIDFVectorization"
   ]
  },
  {
   "cell_type": "markdown",
   "metadata": {},
   "source": [
    "# Text classification"
   ]
  },
  {
   "cell_type": "markdown",
   "metadata": {},
   "source": [
    "__Read the CSV file “Wine.csv”__"
   ]
  },
  {
   "cell_type": "code",
   "execution_count": 3,
   "metadata": {
    "ExecuteTime": {
     "end_time": "2021-12-15T01:28:10.499428Z",
     "start_time": "2021-12-15T01:28:06.833504Z"
    }
   },
   "outputs": [],
   "source": [
    "import numpy as np\n",
    "import pandas as pd\n",
    "import nltk\n",
    "from nltk import word_tokenize"
   ]
  },
  {
   "cell_type": "code",
   "execution_count": 4,
   "metadata": {
    "ExecuteTime": {
     "end_time": "2021-12-15T01:28:10.567107Z",
     "start_time": "2021-12-15T01:28:10.502632Z"
    }
   },
   "outputs": [
    {
     "data": {
      "text/html": [
       "<div>\n",
       "<style scoped>\n",
       "    .dataframe tbody tr th:only-of-type {\n",
       "        vertical-align: middle;\n",
       "    }\n",
       "\n",
       "    .dataframe tbody tr th {\n",
       "        vertical-align: top;\n",
       "    }\n",
       "\n",
       "    .dataframe thead th {\n",
       "        text-align: right;\n",
       "    }\n",
       "</style>\n",
       "<table border=\"1\" class=\"dataframe\">\n",
       "  <thead>\n",
       "    <tr style=\"text-align: right;\">\n",
       "      <th></th>\n",
       "      <th>Unnamed: 0</th>\n",
       "      <th>winery</th>\n",
       "      <th>country</th>\n",
       "      <th>points</th>\n",
       "      <th>description</th>\n",
       "      <th>designation</th>\n",
       "    </tr>\n",
       "  </thead>\n",
       "  <tbody>\n",
       "    <tr>\n",
       "      <th>0</th>\n",
       "      <td>0</td>\n",
       "      <td>Heitz</td>\n",
       "      <td>US</td>\n",
       "      <td>96</td>\n",
       "      <td>This tremendous 100% varietal wine hails from ...</td>\n",
       "      <td>Martha's Vineyard</td>\n",
       "    </tr>\n",
       "    <tr>\n",
       "      <th>1</th>\n",
       "      <td>1</td>\n",
       "      <td>Bodega Carmen Rodríguez</td>\n",
       "      <td>Spain</td>\n",
       "      <td>96</td>\n",
       "      <td>Ripe aromas of fig, blackberry and cassis are ...</td>\n",
       "      <td>Carodorum Selección Especial Reserva</td>\n",
       "    </tr>\n",
       "    <tr>\n",
       "      <th>2</th>\n",
       "      <td>2</td>\n",
       "      <td>Macauley</td>\n",
       "      <td>US</td>\n",
       "      <td>96</td>\n",
       "      <td>Mac Watson honors the memory of a wine once ma...</td>\n",
       "      <td>Special Selected Late Harvest</td>\n",
       "    </tr>\n",
       "    <tr>\n",
       "      <th>3</th>\n",
       "      <td>3</td>\n",
       "      <td>Ponzi</td>\n",
       "      <td>US</td>\n",
       "      <td>96</td>\n",
       "      <td>This spent 20 months in 30% new French oak, an...</td>\n",
       "      <td>Reserve</td>\n",
       "    </tr>\n",
       "    <tr>\n",
       "      <th>4</th>\n",
       "      <td>4</td>\n",
       "      <td>Domaine de la Bégude</td>\n",
       "      <td>France</td>\n",
       "      <td>95</td>\n",
       "      <td>This is the top wine from La Bégude, named aft...</td>\n",
       "      <td>La Brûlade</td>\n",
       "    </tr>\n",
       "  </tbody>\n",
       "</table>\n",
       "</div>"
      ],
      "text/plain": [
       "   Unnamed: 0                   winery country  points  \\\n",
       "0           0                    Heitz      US      96   \n",
       "1           1  Bodega Carmen Rodríguez   Spain      96   \n",
       "2           2                 Macauley      US      96   \n",
       "3           3                    Ponzi      US      96   \n",
       "4           4     Domaine de la Bégude  France      95   \n",
       "\n",
       "                                         description  \\\n",
       "0  This tremendous 100% varietal wine hails from ...   \n",
       "1  Ripe aromas of fig, blackberry and cassis are ...   \n",
       "2  Mac Watson honors the memory of a wine once ma...   \n",
       "3  This spent 20 months in 30% new French oak, an...   \n",
       "4  This is the top wine from La Bégude, named aft...   \n",
       "\n",
       "                            designation  \n",
       "0                     Martha's Vineyard  \n",
       "1  Carodorum Selección Especial Reserva  \n",
       "2         Special Selected Late Harvest  \n",
       "3                               Reserve  \n",
       "4                            La Brûlade  "
      ]
     },
     "execution_count": 4,
     "metadata": {},
     "output_type": "execute_result"
    }
   ],
   "source": [
    "wine = pd.read_csv('Wine.csv')\n",
    "wine.head()"
   ]
  },
  {
   "cell_type": "markdown",
   "metadata": {},
   "source": [
    "__Drop Unwanted columns__"
   ]
  },
  {
   "cell_type": "code",
   "execution_count": 5,
   "metadata": {
    "ExecuteTime": {
     "end_time": "2021-12-15T01:28:10.586157Z",
     "start_time": "2021-12-15T01:28:10.570990Z"
    },
    "scrolled": true
   },
   "outputs": [
    {
     "data": {
      "text/html": [
       "<div>\n",
       "<style scoped>\n",
       "    .dataframe tbody tr th:only-of-type {\n",
       "        vertical-align: middle;\n",
       "    }\n",
       "\n",
       "    .dataframe tbody tr th {\n",
       "        vertical-align: top;\n",
       "    }\n",
       "\n",
       "    .dataframe thead th {\n",
       "        text-align: right;\n",
       "    }\n",
       "</style>\n",
       "<table border=\"1\" class=\"dataframe\">\n",
       "  <thead>\n",
       "    <tr style=\"text-align: right;\">\n",
       "      <th></th>\n",
       "      <th>winery</th>\n",
       "      <th>country</th>\n",
       "      <th>points</th>\n",
       "      <th>description</th>\n",
       "      <th>designation</th>\n",
       "    </tr>\n",
       "  </thead>\n",
       "  <tbody>\n",
       "    <tr>\n",
       "      <th>0</th>\n",
       "      <td>Heitz</td>\n",
       "      <td>US</td>\n",
       "      <td>96</td>\n",
       "      <td>This tremendous 100% varietal wine hails from ...</td>\n",
       "      <td>Martha's Vineyard</td>\n",
       "    </tr>\n",
       "    <tr>\n",
       "      <th>1</th>\n",
       "      <td>Bodega Carmen Rodríguez</td>\n",
       "      <td>Spain</td>\n",
       "      <td>96</td>\n",
       "      <td>Ripe aromas of fig, blackberry and cassis are ...</td>\n",
       "      <td>Carodorum Selección Especial Reserva</td>\n",
       "    </tr>\n",
       "    <tr>\n",
       "      <th>2</th>\n",
       "      <td>Macauley</td>\n",
       "      <td>US</td>\n",
       "      <td>96</td>\n",
       "      <td>Mac Watson honors the memory of a wine once ma...</td>\n",
       "      <td>Special Selected Late Harvest</td>\n",
       "    </tr>\n",
       "    <tr>\n",
       "      <th>3</th>\n",
       "      <td>Ponzi</td>\n",
       "      <td>US</td>\n",
       "      <td>96</td>\n",
       "      <td>This spent 20 months in 30% new French oak, an...</td>\n",
       "      <td>Reserve</td>\n",
       "    </tr>\n",
       "    <tr>\n",
       "      <th>4</th>\n",
       "      <td>Domaine de la Bégude</td>\n",
       "      <td>France</td>\n",
       "      <td>95</td>\n",
       "      <td>This is the top wine from La Bégude, named aft...</td>\n",
       "      <td>La Brûlade</td>\n",
       "    </tr>\n",
       "  </tbody>\n",
       "</table>\n",
       "</div>"
      ],
      "text/plain": [
       "                    winery country  points  \\\n",
       "0                    Heitz      US      96   \n",
       "1  Bodega Carmen Rodríguez   Spain      96   \n",
       "2                 Macauley      US      96   \n",
       "3                    Ponzi      US      96   \n",
       "4     Domaine de la Bégude  France      95   \n",
       "\n",
       "                                         description  \\\n",
       "0  This tremendous 100% varietal wine hails from ...   \n",
       "1  Ripe aromas of fig, blackberry and cassis are ...   \n",
       "2  Mac Watson honors the memory of a wine once ma...   \n",
       "3  This spent 20 months in 30% new French oak, an...   \n",
       "4  This is the top wine from La Bégude, named aft...   \n",
       "\n",
       "                            designation  \n",
       "0                     Martha's Vineyard  \n",
       "1  Carodorum Selección Especial Reserva  \n",
       "2         Special Selected Late Harvest  \n",
       "3                               Reserve  \n",
       "4                            La Brûlade  "
      ]
     },
     "execution_count": 5,
     "metadata": {},
     "output_type": "execute_result"
    }
   ],
   "source": [
    "wine = wine.drop('Unnamed: 0',axis = 1)\n",
    "wine.head()"
   ]
  },
  {
   "cell_type": "markdown",
   "metadata": {},
   "source": [
    "__Using Pre-process File which you created in module 2 case study 1, call the ‘Refine’ function and get the pre-processed text for each ‘description’ in the csv file. Store it in a column named “Refined-Description”__"
   ]
  },
  {
   "cell_type": "code",
   "execution_count": 6,
   "metadata": {
    "ExecuteTime": {
     "end_time": "2021-12-15T01:28:10.613450Z",
     "start_time": "2021-12-15T01:28:10.598664Z"
    }
   },
   "outputs": [],
   "source": [
    "import nltk\n",
    "from nltk.corpus import stopwords\n",
    "from string import punctuation\n",
    "from nltk.stem import  wordnet\n",
    "from nltk.stem import WordNetLemmatizer\n",
    "\n",
    "#Tokenize Function\n",
    "def Tokenize(string):\n",
    "    tokens=nltk.tokenize.word_tokenize(string)\n",
    "    return \" \".join(tokens)\n",
    "\n",
    "#RemoveStopWordsFunction\n",
    "def RemoveStopWords(string):\n",
    "    #Removing Punctuations\n",
    "    for each in punctuation:\n",
    "        string=string.replace(each,\"\")\n",
    "    \n",
    "    #Removing Stopwords\n",
    "    english_stopwords=stopwords.words('english')\n",
    "    stopwords_removed_tokens=[]\n",
    "    words=string.split(\" \")\n",
    "    \n",
    "    for each in words:\n",
    "        if each not in english_stopwords:\n",
    "            stopwords_removed_tokens.append(each)\n",
    "    return \" \".join(stopwords_removed_tokens) \n",
    "\n",
    "\n",
    "#LemmatizeFunction\n",
    "def Lemmatize(string):\n",
    "    word_lem=WordNetLemmatizer()\n",
    "    words=string.split() \n",
    "    lemmatizeWords=[]\n",
    "    for each in words:\n",
    "        lemmatizeWords.append(word_lem.lemmatize(each))\n",
    "    return \" \".join(lemmatizeWords)\n",
    "\n",
    "def Refine(string):\n",
    "    return Lemmatize(RemoveStopWords(Tokenize(string)))\n"
   ]
  },
  {
   "cell_type": "markdown",
   "metadata": {
    "ExecuteTime": {
     "end_time": "2021-12-15T01:27:36.289475Z",
     "start_time": "2021-12-15T01:27:36.281358Z"
    }
   },
   "source": [
    "__Apply the function__"
   ]
  },
  {
   "cell_type": "code",
   "execution_count": 7,
   "metadata": {
    "ExecuteTime": {
     "end_time": "2021-12-15T01:28:14.744586Z",
     "start_time": "2021-12-15T01:28:10.616813Z"
    }
   },
   "outputs": [
    {
     "data": {
      "text/html": [
       "<div>\n",
       "<style scoped>\n",
       "    .dataframe tbody tr th:only-of-type {\n",
       "        vertical-align: middle;\n",
       "    }\n",
       "\n",
       "    .dataframe tbody tr th {\n",
       "        vertical-align: top;\n",
       "    }\n",
       "\n",
       "    .dataframe thead th {\n",
       "        text-align: right;\n",
       "    }\n",
       "</style>\n",
       "<table border=\"1\" class=\"dataframe\">\n",
       "  <thead>\n",
       "    <tr style=\"text-align: right;\">\n",
       "      <th></th>\n",
       "      <th>winery</th>\n",
       "      <th>country</th>\n",
       "      <th>points</th>\n",
       "      <th>description</th>\n",
       "      <th>designation</th>\n",
       "      <th>Refined-description</th>\n",
       "    </tr>\n",
       "  </thead>\n",
       "  <tbody>\n",
       "    <tr>\n",
       "      <th>0</th>\n",
       "      <td>Heitz</td>\n",
       "      <td>US</td>\n",
       "      <td>96</td>\n",
       "      <td>This tremendous 100% varietal wine hails from ...</td>\n",
       "      <td>Martha's Vineyard</td>\n",
       "      <td>This tremendous 100 varietal wine hail Oakvill...</td>\n",
       "    </tr>\n",
       "    <tr>\n",
       "      <th>1</th>\n",
       "      <td>Bodega Carmen Rodríguez</td>\n",
       "      <td>Spain</td>\n",
       "      <td>96</td>\n",
       "      <td>Ripe aromas of fig, blackberry and cassis are ...</td>\n",
       "      <td>Carodorum Selección Especial Reserva</td>\n",
       "      <td>Ripe aroma fig blackberry cassis softened swee...</td>\n",
       "    </tr>\n",
       "    <tr>\n",
       "      <th>2</th>\n",
       "      <td>Macauley</td>\n",
       "      <td>US</td>\n",
       "      <td>96</td>\n",
       "      <td>Mac Watson honors the memory of a wine once ma...</td>\n",
       "      <td>Special Selected Late Harvest</td>\n",
       "      <td>Mac Watson honor memory wine made mother treme...</td>\n",
       "    </tr>\n",
       "    <tr>\n",
       "      <th>3</th>\n",
       "      <td>Ponzi</td>\n",
       "      <td>US</td>\n",
       "      <td>96</td>\n",
       "      <td>This spent 20 months in 30% new French oak, an...</td>\n",
       "      <td>Reserve</td>\n",
       "      <td>This spent 20 month 30 new French oak incorpor...</td>\n",
       "    </tr>\n",
       "    <tr>\n",
       "      <th>4</th>\n",
       "      <td>Domaine de la Bégude</td>\n",
       "      <td>France</td>\n",
       "      <td>95</td>\n",
       "      <td>This is the top wine from La Bégude, named aft...</td>\n",
       "      <td>La Brûlade</td>\n",
       "      <td>This top wine La Bégude named highest point vi...</td>\n",
       "    </tr>\n",
       "  </tbody>\n",
       "</table>\n",
       "</div>"
      ],
      "text/plain": [
       "                    winery country  points  \\\n",
       "0                    Heitz      US      96   \n",
       "1  Bodega Carmen Rodríguez   Spain      96   \n",
       "2                 Macauley      US      96   \n",
       "3                    Ponzi      US      96   \n",
       "4     Domaine de la Bégude  France      95   \n",
       "\n",
       "                                         description  \\\n",
       "0  This tremendous 100% varietal wine hails from ...   \n",
       "1  Ripe aromas of fig, blackberry and cassis are ...   \n",
       "2  Mac Watson honors the memory of a wine once ma...   \n",
       "3  This spent 20 months in 30% new French oak, an...   \n",
       "4  This is the top wine from La Bégude, named aft...   \n",
       "\n",
       "                            designation  \\\n",
       "0                     Martha's Vineyard   \n",
       "1  Carodorum Selección Especial Reserva   \n",
       "2         Special Selected Late Harvest   \n",
       "3                               Reserve   \n",
       "4                            La Brûlade   \n",
       "\n",
       "                                 Refined-description  \n",
       "0  This tremendous 100 varietal wine hail Oakvill...  \n",
       "1  Ripe aroma fig blackberry cassis softened swee...  \n",
       "2  Mac Watson honor memory wine made mother treme...  \n",
       "3  This spent 20 month 30 new French oak incorpor...  \n",
       "4  This top wine La Bégude named highest point vi...  "
      ]
     },
     "execution_count": 7,
     "metadata": {},
     "output_type": "execute_result"
    }
   ],
   "source": [
    "#string = wine.description.values\n",
    "wine['Refined-description'] = wine['description'].apply(Refine)\n",
    "wine.head()\n"
   ]
  },
  {
   "cell_type": "markdown",
   "metadata": {},
   "source": [
    "__Using ‘CountVectorization’ function from ‘Vectorization’ python file created in case study 1of this module, vectorise all the rows in ‘Refined-Description’ column which you created in the above step. Store them in a column named “CountVectorizer”__"
   ]
  },
  {
   "cell_type": "code",
   "execution_count": 8,
   "metadata": {
    "ExecuteTime": {
     "end_time": "2021-12-15T01:28:14.758154Z",
     "start_time": "2021-12-15T01:28:14.746598Z"
    }
   },
   "outputs": [],
   "source": [
    "def CountVectorization(S):\n",
    "    from nltk import word_tokenize\n",
    "    S_tokens = word_tokenize(S)\n",
    "   \n",
    "    S_corpus = set(S_tokens)\n",
    "    S_corpus_dict = dict.fromkeys(S_corpus,0)\n",
    "    S_dict = dict.fromkeys(S_corpus_dict,0)\n",
    "    for token in S_tokens:\n",
    "        S_dict[token]+=1\n",
    "        S_list = list(S_dict.values())\n",
    "    return (S_list)"
   ]
  },
  {
   "cell_type": "code",
   "execution_count": 9,
   "metadata": {
    "ExecuteTime": {
     "end_time": "2021-12-15T01:28:15.305582Z",
     "start_time": "2021-12-15T01:28:14.761583Z"
    }
   },
   "outputs": [],
   "source": [
    "wine['CountVectorizer'] = wine['Refined-description'].apply(CountVectorization)"
   ]
  },
  {
   "cell_type": "code",
   "execution_count": 10,
   "metadata": {
    "ExecuteTime": {
     "end_time": "2021-12-15T01:28:15.324786Z",
     "start_time": "2021-12-15T01:28:15.307213Z"
    }
   },
   "outputs": [
    {
     "data": {
      "text/html": [
       "<div>\n",
       "<style scoped>\n",
       "    .dataframe tbody tr th:only-of-type {\n",
       "        vertical-align: middle;\n",
       "    }\n",
       "\n",
       "    .dataframe tbody tr th {\n",
       "        vertical-align: top;\n",
       "    }\n",
       "\n",
       "    .dataframe thead th {\n",
       "        text-align: right;\n",
       "    }\n",
       "</style>\n",
       "<table border=\"1\" class=\"dataframe\">\n",
       "  <thead>\n",
       "    <tr style=\"text-align: right;\">\n",
       "      <th></th>\n",
       "      <th>winery</th>\n",
       "      <th>country</th>\n",
       "      <th>points</th>\n",
       "      <th>description</th>\n",
       "      <th>designation</th>\n",
       "      <th>Refined-description</th>\n",
       "      <th>CountVectorizer</th>\n",
       "    </tr>\n",
       "  </thead>\n",
       "  <tbody>\n",
       "    <tr>\n",
       "      <th>0</th>\n",
       "      <td>Heitz</td>\n",
       "      <td>US</td>\n",
       "      <td>96</td>\n",
       "      <td>This tremendous 100% varietal wine hails from ...</td>\n",
       "      <td>Martha's Vineyard</td>\n",
       "      <td>This tremendous 100 varietal wine hail Oakvill...</td>\n",
       "      <td>[1, 1, 1, 1, 1, 1, 1, 1, 1, 1, 1, 1, 1, 1, 1, ...</td>\n",
       "    </tr>\n",
       "    <tr>\n",
       "      <th>1</th>\n",
       "      <td>Bodega Carmen Rodríguez</td>\n",
       "      <td>Spain</td>\n",
       "      <td>96</td>\n",
       "      <td>Ripe aromas of fig, blackberry and cassis are ...</td>\n",
       "      <td>Carodorum Selección Especial Reserva</td>\n",
       "      <td>Ripe aroma fig blackberry cassis softened swee...</td>\n",
       "      <td>[1, 1, 1, 1, 1, 1, 1, 1, 1, 1, 1, 1, 1, 1, 1, ...</td>\n",
       "    </tr>\n",
       "    <tr>\n",
       "      <th>2</th>\n",
       "      <td>Macauley</td>\n",
       "      <td>US</td>\n",
       "      <td>96</td>\n",
       "      <td>Mac Watson honors the memory of a wine once ma...</td>\n",
       "      <td>Special Selected Late Harvest</td>\n",
       "      <td>Mac Watson honor memory wine made mother treme...</td>\n",
       "      <td>[1, 1, 1, 1, 1, 1, 1, 1, 1, 1, 1, 1, 1, 1, 1, ...</td>\n",
       "    </tr>\n",
       "    <tr>\n",
       "      <th>3</th>\n",
       "      <td>Ponzi</td>\n",
       "      <td>US</td>\n",
       "      <td>96</td>\n",
       "      <td>This spent 20 months in 30% new French oak, an...</td>\n",
       "      <td>Reserve</td>\n",
       "      <td>This spent 20 month 30 new French oak incorpor...</td>\n",
       "      <td>[1, 1, 1, 1, 1, 1, 1, 1, 1, 1, 1, 1, 1, 1, 1, ...</td>\n",
       "    </tr>\n",
       "    <tr>\n",
       "      <th>4</th>\n",
       "      <td>Domaine de la Bégude</td>\n",
       "      <td>France</td>\n",
       "      <td>95</td>\n",
       "      <td>This is the top wine from La Bégude, named aft...</td>\n",
       "      <td>La Brûlade</td>\n",
       "      <td>This top wine La Bégude named highest point vi...</td>\n",
       "      <td>[1, 1, 1, 1, 3, 1, 1, 1, 1, 1, 1, 1, 1, 1, 1, ...</td>\n",
       "    </tr>\n",
       "  </tbody>\n",
       "</table>\n",
       "</div>"
      ],
      "text/plain": [
       "                    winery country  points  \\\n",
       "0                    Heitz      US      96   \n",
       "1  Bodega Carmen Rodríguez   Spain      96   \n",
       "2                 Macauley      US      96   \n",
       "3                    Ponzi      US      96   \n",
       "4     Domaine de la Bégude  France      95   \n",
       "\n",
       "                                         description  \\\n",
       "0  This tremendous 100% varietal wine hails from ...   \n",
       "1  Ripe aromas of fig, blackberry and cassis are ...   \n",
       "2  Mac Watson honors the memory of a wine once ma...   \n",
       "3  This spent 20 months in 30% new French oak, an...   \n",
       "4  This is the top wine from La Bégude, named aft...   \n",
       "\n",
       "                            designation  \\\n",
       "0                     Martha's Vineyard   \n",
       "1  Carodorum Selección Especial Reserva   \n",
       "2         Special Selected Late Harvest   \n",
       "3                               Reserve   \n",
       "4                            La Brûlade   \n",
       "\n",
       "                                 Refined-description  \\\n",
       "0  This tremendous 100 varietal wine hail Oakvill...   \n",
       "1  Ripe aroma fig blackberry cassis softened swee...   \n",
       "2  Mac Watson honor memory wine made mother treme...   \n",
       "3  This spent 20 month 30 new French oak incorpor...   \n",
       "4  This top wine La Bégude named highest point vi...   \n",
       "\n",
       "                                     CountVectorizer  \n",
       "0  [1, 1, 1, 1, 1, 1, 1, 1, 1, 1, 1, 1, 1, 1, 1, ...  \n",
       "1  [1, 1, 1, 1, 1, 1, 1, 1, 1, 1, 1, 1, 1, 1, 1, ...  \n",
       "2  [1, 1, 1, 1, 1, 1, 1, 1, 1, 1, 1, 1, 1, 1, 1, ...  \n",
       "3  [1, 1, 1, 1, 1, 1, 1, 1, 1, 1, 1, 1, 1, 1, 1, ...  \n",
       "4  [1, 1, 1, 1, 3, 1, 1, 1, 1, 1, 1, 1, 1, 1, 1, ...  "
      ]
     },
     "execution_count": 10,
     "metadata": {},
     "output_type": "execute_result"
    }
   ],
   "source": [
    "wine.head()"
   ]
  },
  {
   "cell_type": "markdown",
   "metadata": {},
   "source": [
    "__Using ‘TF-IDFVectorization’ function from ‘Vectorization’ python file created in case study 1 of this module, vectorise all the rows in ‘Refined-Description’ column and store the results in ‘TF-IDF Vectorizer Column”__"
   ]
  },
  {
   "cell_type": "code",
   "execution_count": 11,
   "metadata": {
    "ExecuteTime": {
     "end_time": "2021-12-15T01:28:15.337361Z",
     "start_time": "2021-12-15T01:28:15.327386Z"
    }
   },
   "outputs": [],
   "source": [
    "def TFIDFVectorization(S):\n",
    "    from sklearn.feature_extraction.text import TfidfVectorizer\n",
    "    tf_vect = TfidfVectorizer(min_df = 1,lowercase = True,stop_words = 'english')\n",
    "    tf_matrix = tf_vect.fit_transform([S])\n",
    "    tf = tf_matrix.toarray()\n",
    "    tf_list = tf.tolist()\n",
    "    return tf_list"
   ]
  },
  {
   "cell_type": "code",
   "execution_count": 12,
   "metadata": {
    "ExecuteTime": {
     "end_time": "2021-12-15T01:28:19.035198Z",
     "start_time": "2021-12-15T01:28:15.344459Z"
    }
   },
   "outputs": [
    {
     "data": {
      "text/html": [
       "<div>\n",
       "<style scoped>\n",
       "    .dataframe tbody tr th:only-of-type {\n",
       "        vertical-align: middle;\n",
       "    }\n",
       "\n",
       "    .dataframe tbody tr th {\n",
       "        vertical-align: top;\n",
       "    }\n",
       "\n",
       "    .dataframe thead th {\n",
       "        text-align: right;\n",
       "    }\n",
       "</style>\n",
       "<table border=\"1\" class=\"dataframe\">\n",
       "  <thead>\n",
       "    <tr style=\"text-align: right;\">\n",
       "      <th></th>\n",
       "      <th>winery</th>\n",
       "      <th>country</th>\n",
       "      <th>points</th>\n",
       "      <th>description</th>\n",
       "      <th>designation</th>\n",
       "      <th>Refined-description</th>\n",
       "      <th>CountVectorizer</th>\n",
       "      <th>TF-IDF Vectorizer Column</th>\n",
       "    </tr>\n",
       "  </thead>\n",
       "  <tbody>\n",
       "    <tr>\n",
       "      <th>0</th>\n",
       "      <td>Heitz</td>\n",
       "      <td>US</td>\n",
       "      <td>96</td>\n",
       "      <td>This tremendous 100% varietal wine hails from ...</td>\n",
       "      <td>Martha's Vineyard</td>\n",
       "      <td>This tremendous 100 varietal wine hail Oakvill...</td>\n",
       "      <td>[1, 1, 1, 1, 1, 1, 1, 1, 1, 1, 1, 1, 1, 1, 1, ...</td>\n",
       "      <td>[[0.16222142113076254, 0.16222142113076254, 0....</td>\n",
       "    </tr>\n",
       "    <tr>\n",
       "      <th>1</th>\n",
       "      <td>Bodega Carmen Rodríguez</td>\n",
       "      <td>Spain</td>\n",
       "      <td>96</td>\n",
       "      <td>Ripe aromas of fig, blackberry and cassis are ...</td>\n",
       "      <td>Carodorum Selección Especial Reserva</td>\n",
       "      <td>Ripe aroma fig blackberry cassis softened swee...</td>\n",
       "      <td>[1, 1, 1, 1, 1, 1, 1, 1, 1, 1, 1, 1, 1, 1, 1, ...</td>\n",
       "      <td>[[0.18257418583505536, 0.18257418583505536, 0....</td>\n",
       "    </tr>\n",
       "    <tr>\n",
       "      <th>2</th>\n",
       "      <td>Macauley</td>\n",
       "      <td>US</td>\n",
       "      <td>96</td>\n",
       "      <td>Mac Watson honors the memory of a wine once ma...</td>\n",
       "      <td>Special Selected Late Harvest</td>\n",
       "      <td>Mac Watson honor memory wine made mother treme...</td>\n",
       "      <td>[1, 1, 1, 1, 1, 1, 1, 1, 1, 1, 1, 1, 1, 1, 1, ...</td>\n",
       "      <td>[[0.18569533817705186, 0.18569533817705186, 0....</td>\n",
       "    </tr>\n",
       "    <tr>\n",
       "      <th>3</th>\n",
       "      <td>Ponzi</td>\n",
       "      <td>US</td>\n",
       "      <td>96</td>\n",
       "      <td>This spent 20 months in 30% new French oak, an...</td>\n",
       "      <td>Reserve</td>\n",
       "      <td>This spent 20 month 30 new French oak incorpor...</td>\n",
       "      <td>[1, 1, 1, 1, 1, 1, 1, 1, 1, 1, 1, 1, 1, 1, 1, ...</td>\n",
       "      <td>[[0.15617376188860607, 0.15617376188860607, 0....</td>\n",
       "    </tr>\n",
       "    <tr>\n",
       "      <th>4</th>\n",
       "      <td>Domaine de la Bégude</td>\n",
       "      <td>France</td>\n",
       "      <td>95</td>\n",
       "      <td>This is the top wine from La Bégude, named aft...</td>\n",
       "      <td>La Brûlade</td>\n",
       "      <td>This top wine La Bégude named highest point vi...</td>\n",
       "      <td>[1, 1, 1, 1, 3, 1, 1, 1, 1, 1, 1, 1, 1, 1, 1, ...</td>\n",
       "      <td>[[0.16222142113076254, 0.16222142113076254, 0....</td>\n",
       "    </tr>\n",
       "  </tbody>\n",
       "</table>\n",
       "</div>"
      ],
      "text/plain": [
       "                    winery country  points  \\\n",
       "0                    Heitz      US      96   \n",
       "1  Bodega Carmen Rodríguez   Spain      96   \n",
       "2                 Macauley      US      96   \n",
       "3                    Ponzi      US      96   \n",
       "4     Domaine de la Bégude  France      95   \n",
       "\n",
       "                                         description  \\\n",
       "0  This tremendous 100% varietal wine hails from ...   \n",
       "1  Ripe aromas of fig, blackberry and cassis are ...   \n",
       "2  Mac Watson honors the memory of a wine once ma...   \n",
       "3  This spent 20 months in 30% new French oak, an...   \n",
       "4  This is the top wine from La Bégude, named aft...   \n",
       "\n",
       "                            designation  \\\n",
       "0                     Martha's Vineyard   \n",
       "1  Carodorum Selección Especial Reserva   \n",
       "2         Special Selected Late Harvest   \n",
       "3                               Reserve   \n",
       "4                            La Brûlade   \n",
       "\n",
       "                                 Refined-description  \\\n",
       "0  This tremendous 100 varietal wine hail Oakvill...   \n",
       "1  Ripe aroma fig blackberry cassis softened swee...   \n",
       "2  Mac Watson honor memory wine made mother treme...   \n",
       "3  This spent 20 month 30 new French oak incorpor...   \n",
       "4  This top wine La Bégude named highest point vi...   \n",
       "\n",
       "                                     CountVectorizer  \\\n",
       "0  [1, 1, 1, 1, 1, 1, 1, 1, 1, 1, 1, 1, 1, 1, 1, ...   \n",
       "1  [1, 1, 1, 1, 1, 1, 1, 1, 1, 1, 1, 1, 1, 1, 1, ...   \n",
       "2  [1, 1, 1, 1, 1, 1, 1, 1, 1, 1, 1, 1, 1, 1, 1, ...   \n",
       "3  [1, 1, 1, 1, 1, 1, 1, 1, 1, 1, 1, 1, 1, 1, 1, ...   \n",
       "4  [1, 1, 1, 1, 3, 1, 1, 1, 1, 1, 1, 1, 1, 1, 1, ...   \n",
       "\n",
       "                            TF-IDF Vectorizer Column  \n",
       "0  [[0.16222142113076254, 0.16222142113076254, 0....  \n",
       "1  [[0.18257418583505536, 0.18257418583505536, 0....  \n",
       "2  [[0.18569533817705186, 0.18569533817705186, 0....  \n",
       "3  [[0.15617376188860607, 0.15617376188860607, 0....  \n",
       "4  [[0.16222142113076254, 0.16222142113076254, 0....  "
      ]
     },
     "execution_count": 12,
     "metadata": {},
     "output_type": "execute_result"
    }
   ],
   "source": [
    "wine['TF-IDF Vectorizer Column'] = wine['Refined-description'].apply(TFIDFVectorization)\n",
    "wine.head()"
   ]
  },
  {
   "cell_type": "code",
   "execution_count": 17,
   "metadata": {
    "ExecuteTime": {
     "end_time": "2021-12-15T01:29:56.994662Z",
     "start_time": "2021-12-15T01:29:56.933532Z"
    }
   },
   "outputs": [
    {
     "name": "stdout",
     "output_type": "stream",
     "text": [
      "Argentina\n",
      "[('flavor', 48), ('finish', 47), ('aroma', 42), ('This', 34), ('palate', 33), ('plum', 28), ('berry', 24), ('fruit', 20), ('note', 17), ('A', 17), ('feel', 14), ('acidity', 14), ('blackberry', 13), ('black', 12), ('The', 12)]\n",
      "Australia\n",
      "[('Drink', 5), ('The', 5), ('flavor', 4), ('Pinot', 3), ('Noir', 3), ('cherry', 3), ('note', 3), ('fruit', 3), ('finish', 3), ('black', 2), ('brown', 2), ('sugar', 2), ('roasted', 2), ('2020', 2), ('texture', 2)]\n",
      "Austria\n",
      "[('palate', 16), ('fruit', 13), ('wine', 13), ('The', 13), ('pear', 10), ('freshness', 9), ('nose', 9), ('fresh', 8), ('note', 7), ('This', 7), ('cherry', 6), ('structure', 6), ('Drink', 6), ('citrus', 6), ('A', 5)]\n",
      "Bulgaria\n",
      "[('cherry', 7), ('black', 7), ('dried', 6), ('This', 5), ('plum', 5), ('tannin', 4), ('It', 4), ('flavor', 4), ('Bulgarian', 3), ('soft', 3), ('aroma', 3), ('red', 3), ('Mavrud', 2), ('nose', 2), ('freshly', 2)]\n",
      "Canada\n",
      "[('wine', 5), ('fruit', 4), ('This', 2), ('Cabernet', 2), ('The', 2), ('flavor', 2), ('note', 2), ('finish', 2), ('herb', 2), ('It', 2), ('drink', 2), ('dry', 2), ('acidity', 2), ('offer', 2), ('mix', 2)]\n",
      "Chile\n",
      "[('flavor', 37), ('finish', 33), ('aroma', 30), ('berry', 24), ('This', 21), ('palate', 20), ('plum', 17), ('note', 17), ('A', 16), ('fruit', 15), ('Drink', 15), ('black', 14), ('herbal', 13), ('spice', 13), ('blend', 13)]\n",
      "Croatia\n",
      "[('fresh', 4), ('This', 3), ('aroma', 3), ('fruit', 3), ('flavor', 3), ('Croatian', 2), ('white', 2), ('It', 2), ('black', 2), ('fig', 2), ('astringent', 2), ('finish', 2), ('mouth', 2), ('pear', 2), ('blend', 1)]\n",
      "France\n",
      "[('wine', 456), ('fruit', 235), ('It', 194), ('Drink', 169), ('The', 140), ('This', 137), ('acidity', 134), ('ripe', 126), ('flavor', 108), ('rich', 99), ('tannin', 93), ('2017', 83), ('character', 82), ('drink', 75), ('fresh', 69)]\n",
      "Germany\n",
      "[('finish', 37), ('flavor', 37), ('acidity', 33), ('It', 30), ('palate', 30), ('peach', 23), ('Riesling', 23), ('long', 18), ('note', 18), ('tangerine', 14), ('lime', 14), ('fresh', 13), ('herb', 12), ('The', 12), ('dry', 12)]\n",
      "Greece\n",
      "[('white', 9), ('wine', 6), ('nose', 6), ('palate', 6), ('flavor', 6), ('well', 5), ('pair', 5), ('cherry', 5), ('lead', 5), ('lemon', 4), ('fruit', 4), ('fish', 4), ('offer', 4), ('This', 3), ('peel', 3)]\n",
      "Hungary\n",
      "[('This', 5), ('wine', 5), ('flavor', 4), ('lemon', 4), ('apricot', 3), ('scent', 2), ('black', 2), ('cherry', 2), ('plum', 2), ('finish', 2), ('curd', 2), ('blossom', 2), ('palate', 2), ('crisp', 2), ('clean', 2)]\n",
      "India\n",
      "[('tannin', 2), ('Dark', 1), ('violetred', 1), ('color', 1), ('wine', 1), ('bouquet', 1), ('blueberry', 1), ('bramble', 1), ('flint', 1), ('It', 1), ('soft', 1), ('entry', 1), ('web', 1), ('spread', 1), ('across', 1)]\n",
      "Israel\n",
      "[('flavor', 20), ('cherry', 14), ('wine', 13), ('black', 13), ('tannin', 12), ('finish', 11), ('blackberry', 9), ('nose', 8), ('pomegranate', 8), ('palate', 7), ('pepper', 7), ('tart', 6), ('A', 6), ('orange', 6), ('It', 5)]\n",
      "Italy\n",
      "[('palate', 258), ('The', 232), ('tannin', 208), ('cherry', 180), ('black', 175), ('aroma', 165), ('alongside', 138), ('offer', 129), ('Drink', 105), ('berry', 103), ('note', 96), ('fruit', 91), ('spice', 89), ('pepper', 85), ('ripe', 83)]\n",
      "Moldova\n",
      "[('vanilla', 3), ('cherry', 3), ('blend', 2), ('Cabernet', 2), ('Sauvignon', 2), ('tannin', 2), ('black', 2), ('raspberry', 2), ('The', 1), ('50', 1), ('35', 1), ('Merlot', 1), ('15', 1), ('Malbec', 1), ('wellbalanced', 1)]\n",
      "Morocco\n",
      "[('cherry', 4), ('red', 3), ('nose', 2), ('palate', 2), ('tannin', 2), ('flavor', 2), ('finish', 2), ('Tones', 1), ('black', 1), ('toffee', 1), ('tobacco', 1), ('tar', 1), ('violet', 1), ('show', 1), ('boldly', 1)]\n",
      "New Zealand\n",
      "[('peach', 6), ('2015', 5), ('wine', 5), ('white', 5), ('long', 5), ('note', 5), ('mediumbodied', 4), ('smoke', 4), ('flavor', 4), ('intensity', 3), ('silky', 3), ('lime', 3), ('finish', 3), ('citrus', 3), ('The', 3)]\n",
      "Portugal\n",
      "[('wine', 170), ('fruit', 101), ('Drink', 74), ('It', 73), ('tannin', 68), ('This', 59), ('acidity', 57), ('flavor', 50), ('ripe', 43), ('rich', 40), ('The', 39), ('drink', 37), ('black', 34), ('fruity', 30), ('A', 29)]\n",
      "Romania\n",
      "[('cherry', 4), ('red', 3), ('lead', 3), ('flavor', 3), ('aroma', 2), ('plum', 2), ('finish', 2), ('big', 2), ('raspberry', 2), ('This', 1), ('playful', 1), ('pink', 1), ('fun', 1), ('cinnamon', 1), ('berry', 1)]\n",
      "Slovenia\n",
      "[('Ribolla', 2), ('Gialla', 2), ('aroma', 2), ('vanilla', 2), ('It', 2), ('minerality', 2), ('flavor', 2), ('apricot', 2), ('apple', 2), ('peach', 2), ('Amber', 1), ('gold', 1), ('glass', 1), ('wet', 1), ('river', 1)]\n",
      "South Africa\n",
      "[('Drink', 13), ('palate', 11), ('flavor', 9), ('apple', 9), ('aroma', 8), ('green', 8), ('citrus', 6), ('rind', 6), ('fresh', 6), ('The', 6), ('note', 6), ('finish', 6), ('lime', 5), ('lightweight', 5), ('soft', 5)]\n",
      "Spain\n",
      "[('flavor', 106), ('finish', 104), ('aroma', 87), ('This', 69), ('palate', 58), ('berry', 53), ('plum', 48), ('Drink', 41), ('note', 39), ('fruit', 34), ('cherry', 33), ('oak', 30), ('A', 29), ('tannin', 28), ('acidity', 27)]\n",
      "US\n",
      "[('wine', 529), ('flavor', 503), ('fruit', 367), ('The', 331), ('It', 292), ('cherry', 275), ('finish', 252), ('This', 251), ('palate', 247), ('black', 226), ('tannin', 199), ('aroma', 198), ('acidity', 190), ('oak', 165), ('nose', 149)]\n"
     ]
    }
   ],
   "source": [
    "from collections import Counter\n",
    "for groupname,subset in wine.groupby('country'):\n",
    "    review_data = subset['Refined-description']\n",
    "    words = []\n",
    "    for word in review_data:\n",
    "        words.extend(word.split(\" \"))\n",
    "    print(groupname)\n",
    "    print(Counter(words).most_common(15))"
   ]
  },
  {
   "cell_type": "markdown",
   "metadata": {},
   "source": [
    "__Save changes to the CSV file.__"
   ]
  },
  {
   "cell_type": "code",
   "execution_count": null,
   "metadata": {
    "ExecuteTime": {
     "end_time": "2021-12-15T01:28:19.073015Z",
     "start_time": "2021-12-15T01:28:19.072992Z"
    }
   },
   "outputs": [],
   "source": [
    "wine.to_csv('wine_updated.csv',index = False)"
   ]
  },
  {
   "cell_type": "code",
   "execution_count": null,
   "metadata": {
    "ExecuteTime": {
     "end_time": "2021-12-15T01:28:19.075113Z",
     "start_time": "2021-12-15T01:28:19.075090Z"
    }
   },
   "outputs": [],
   "source": [
    "wine_updated = pd.read_csv('wine_updated.csv')\n",
    "wine_updated.head()"
   ]
  },
  {
   "cell_type": "code",
   "execution_count": null,
   "metadata": {},
   "outputs": [],
   "source": []
  }
 ],
 "metadata": {
  "hide_input": false,
  "kernelspec": {
   "display_name": "Python 3 (ipykernel)",
   "language": "python",
   "name": "python3"
  },
  "language_info": {
   "codemirror_mode": {
    "name": "ipython",
    "version": 3
   },
   "file_extension": ".py",
   "mimetype": "text/x-python",
   "name": "python",
   "nbconvert_exporter": "python",
   "pygments_lexer": "ipython3",
   "version": "3.7.4"
  },
  "toc": {
   "base_numbering": 1,
   "nav_menu": {},
   "number_sections": true,
   "sideBar": true,
   "skip_h1_title": false,
   "title_cell": "Table of Contents",
   "title_sidebar": "Contents",
   "toc_cell": false,
   "toc_position": {},
   "toc_section_display": true,
   "toc_window_display": false
  },
  "varInspector": {
   "cols": {
    "lenName": 16,
    "lenType": 16,
    "lenVar": 40
   },
   "kernels_config": {
    "python": {
     "delete_cmd_postfix": "",
     "delete_cmd_prefix": "del ",
     "library": "var_list.py",
     "varRefreshCmd": "print(var_dic_list())"
    },
    "r": {
     "delete_cmd_postfix": ") ",
     "delete_cmd_prefix": "rm(",
     "library": "var_list.r",
     "varRefreshCmd": "cat(var_dic_list()) "
    }
   },
   "types_to_exclude": [
    "module",
    "function",
    "builtin_function_or_method",
    "instance",
    "_Feature"
   ],
   "window_display": false
  }
 },
 "nbformat": 4,
 "nbformat_minor": 4
}
